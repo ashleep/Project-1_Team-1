{
 "cells": [
  {
   "cell_type": "code",
   "execution_count": 1,
   "metadata": {},
   "outputs": [],
   "source": [
    "# Dependencies and Setup\n",
    "import matplotlib.pyplot as plt\n",
    "import pandas as pd\n",
    "import numpy as np\n",
    "import requests\n",
    "import gmaps\n",
    "import os\n",
    "import json\n",
    "import scipy.stats as stats"
   ]
  },
  {
   "cell_type": "code",
   "execution_count": 25,
   "metadata": {},
   "outputs": [],
   "source": [
    "# Tempory data frame to pull in the drinks.csv file\n",
    "temp_df = pd.read_csv(\"output_data/drinks.csv\")"
   ]
  },
  {
   "cell_type": "code",
   "execution_count": 13,
   "metadata": {},
   "outputs": [
    {
     "data": {
      "text/html": [
       "<div>\n",
       "<style scoped>\n",
       "    .dataframe tbody tr th:only-of-type {\n",
       "        vertical-align: middle;\n",
       "    }\n",
       "\n",
       "    .dataframe tbody tr th {\n",
       "        vertical-align: top;\n",
       "    }\n",
       "\n",
       "    .dataframe thead th {\n",
       "        text-align: right;\n",
       "    }\n",
       "</style>\n",
       "<table border=\"1\" class=\"dataframe\">\n",
       "  <thead>\n",
       "    <tr style=\"text-align: right;\">\n",
       "      <th></th>\n",
       "      <th>Drink ID</th>\n",
       "      <th>Name</th>\n",
       "      <th>Category</th>\n",
       "      <th>Alcoholic</th>\n",
       "      <th>Glass</th>\n",
       "      <th>Ingredients</th>\n",
       "      <th>Measure</th>\n",
       "    </tr>\n",
       "  </thead>\n",
       "  <tbody>\n",
       "    <tr>\n",
       "      <th>0</th>\n",
       "      <td>15567</td>\n",
       "      <td>Adam Sunrise</td>\n",
       "      <td>Ordinary Drink</td>\n",
       "      <td>True</td>\n",
       "      <td>Collins Glass</td>\n",
       "      <td>['Vodka', 'Lemonade', 'Water', 'Sugar']</td>\n",
       "      <td>['1/2 ', '1/2 can ', '1/2 ', '10 tsp ']</td>\n",
       "    </tr>\n",
       "    <tr>\n",
       "      <th>1</th>\n",
       "      <td>17141</td>\n",
       "      <td>Smut</td>\n",
       "      <td>Punch / Party Drink</td>\n",
       "      <td>True</td>\n",
       "      <td>Beer mug</td>\n",
       "      <td>['Red wine', 'Peach schnapps', 'Pepsi Cola', '...</td>\n",
       "      <td>['1/3 part ', '1 shot ', '1/3 part ', '1/3 par...</td>\n",
       "    </tr>\n",
       "    <tr>\n",
       "      <th>2</th>\n",
       "      <td>15200</td>\n",
       "      <td>A Day at the Beach</td>\n",
       "      <td>Ordinary Drink</td>\n",
       "      <td>True</td>\n",
       "      <td>Highball glass</td>\n",
       "      <td>['Coconut rum', 'Amaretto', 'Orange juice', 'G...</td>\n",
       "      <td>['1 oz ', '1/2 oz ', '4 oz ', '1/2 oz ']</td>\n",
       "    </tr>\n",
       "    <tr>\n",
       "      <th>3</th>\n",
       "      <td>15743</td>\n",
       "      <td>Fuzzy Asshole</td>\n",
       "      <td>Coffee / Tea</td>\n",
       "      <td>True</td>\n",
       "      <td>Coffee mug</td>\n",
       "      <td>['Coffee', 'Peach schnapps']</td>\n",
       "      <td>['1/2 ', '1/2 ']</td>\n",
       "    </tr>\n",
       "    <tr>\n",
       "      <th>4</th>\n",
       "      <td>17168</td>\n",
       "      <td>Amaretto Sunset</td>\n",
       "      <td>Ordinary Drink</td>\n",
       "      <td>True</td>\n",
       "      <td>Collins Glass</td>\n",
       "      <td>['Triple sec', 'Amaretto', 'Cider', 'Ice']</td>\n",
       "      <td>['1/2 jigger ', '3 shots ', '1/2 cup ', 'Add 1...</td>\n",
       "    </tr>\n",
       "  </tbody>\n",
       "</table>\n",
       "</div>"
      ],
      "text/plain": [
       "  Drink ID                Name             Category Alcoholic           Glass  \\\n",
       "0    15567        Adam Sunrise       Ordinary Drink      True   Collins Glass   \n",
       "1    17141                Smut  Punch / Party Drink      True        Beer mug   \n",
       "2    15200  A Day at the Beach       Ordinary Drink      True  Highball glass   \n",
       "3    15743       Fuzzy Asshole         Coffee / Tea      True      Coffee mug   \n",
       "4    17168     Amaretto Sunset       Ordinary Drink      True   Collins Glass   \n",
       "\n",
       "                                         Ingredients  \\\n",
       "0            ['Vodka', 'Lemonade', 'Water', 'Sugar']   \n",
       "1  ['Red wine', 'Peach schnapps', 'Pepsi Cola', '...   \n",
       "2  ['Coconut rum', 'Amaretto', 'Orange juice', 'G...   \n",
       "3                       ['Coffee', 'Peach schnapps']   \n",
       "4         ['Triple sec', 'Amaretto', 'Cider', 'Ice']   \n",
       "\n",
       "                                             Measure  \n",
       "0            ['1/2 ', '1/2 can ', '1/2 ', '10 tsp ']  \n",
       "1  ['1/3 part ', '1 shot ', '1/3 part ', '1/3 par...  \n",
       "2           ['1 oz ', '1/2 oz ', '4 oz ', '1/2 oz ']  \n",
       "3                                   ['1/2 ', '1/2 ']  \n",
       "4  ['1/2 jigger ', '3 shots ', '1/2 cup ', 'Add 1...  "
      ]
     },
     "execution_count": 13,
     "metadata": {},
     "output_type": "execute_result"
    }
   ],
   "source": [
    "# Display head of data frame. Feel free to delete\n",
    "temp_df.head()"
   ]
  },
  {
   "cell_type": "code",
   "execution_count": 23,
   "metadata": {},
   "outputs": [],
   "source": [
    "# List conversion function. Let me know if there are any issues\n",
    "def convert(s):\n",
    "    lst = []\n",
    "    temp = str(s).split(\", \")\n",
    "    \n",
    "    for x in temp:\n",
    "        lst.append(x.translate({ord(i): None for i in \"[']\"}))\n",
    "    \n",
    "    return lst"
   ]
  },
  {
   "cell_type": "code",
   "execution_count": 14,
   "metadata": {},
   "outputs": [
    {
     "data": {
      "text/plain": [
       "['Red wine', 'Peach schnapps', 'Pepsi Cola', 'Orange juice']"
      ]
     },
     "execution_count": 14,
     "metadata": {},
     "output_type": "execute_result"
    }
   ],
   "source": [
    "# Necessary copy of data frame. The value count is just a test. Feel free to delete that line\n",
    "drink_df = temp_df.copy()"
   ]
  },
  {
   "cell_type": "code",
   "execution_count": 24,
   "metadata": {},
   "outputs": [],
   "source": [
    "# Creation of main data frame. All plots should use this data (i.e. drink_df)\n",
    "for i in range(0, len(drink_df)):\n",
    "    drink_df.at[i,'Ingredients'] = convert(temp_df.loc[i,'Ingredients'])"
   ]
  },
  {
   "cell_type": "code",
   "execution_count": 18,
   "metadata": {},
   "outputs": [],
   "source": [
    "# Creation of sorted list of tuples. Useful for most used ingredient\n",
    "# ing_count = {}\n",
    "# for i in range(0, len(drink_df)):\n",
    "#     for ing in drink_df.loc[i,'Ingredients']:\n",
    "#         if ing in ing_count:\n",
    "#             ing_count[ing] = ing_count[ing] + 1\n",
    "#         else:\n",
    "#             ing_count[ing] = 1\n",
    "            \n",
    "# #print(ing_count)\n",
    "# a=sorted(ing_count.items(), key=lambda x: x[1], reverse = True)\n",
    "# print(a)\n",
    "# #print(drink2_df['Ingredients'].to_string())"
   ]
  },
  {
   "cell_type": "code",
   "execution_count": null,
   "metadata": {},
   "outputs": [],
   "source": [
    "# Creation of new series. Feel free to delete if not needed.\n",
    "drink_df['Ingredients Count'] = 0\n",
    "for i in range(0, len(drink_df)):\n",
    "    drink_df.loc[i,'Ingredients Count'] = len(drink_df.loc[i,'Ingredients'])\n",
    "drink_df.head()"
   ]
  },
  {
   "cell_type": "code",
   "execution_count": null,
   "metadata": {},
   "outputs": [],
   "source": [
    "# split list into Alcoholic and Non-alcoholic data frames. Sort lists on Ingredients Count and reset index\n",
    "drink_al_df = drink_df.loc[drink_df['Alcoholic'] == True].sort_values('Ingredients Count', ascending = False).reset_index(drop = True)\n",
    "drink_non_df = drink_df.loc[drink_df['Alcoholic'] != True].sort_values('Ingredients Count', ascending = False).reset_index(drop = True)"
   ]
  },
  {
   "cell_type": "code",
   "execution_count": null,
   "metadata": {},
   "outputs": [],
   "source": [
    "print(f\"Total alcoholic cocktails = {len(drink_al_df)}.\")\n",
    "drink_al_df.head()"
   ]
  },
  {
   "cell_type": "code",
   "execution_count": null,
   "metadata": {},
   "outputs": [],
   "source": [
    "print(f\"Total non-alcoholic cocktails = {len(drink_non_df)}.\")\n",
    "drink_non_df.head()"
   ]
  },
  {
   "cell_type": "code",
   "execution_count": null,
   "metadata": {},
   "outputs": [],
   "source": [
    "drink_al_df.loc[0:9,:].plot(\"Name\",\"Ingredients Count\", kind = 'bar', legend = False, title = \"Number of Ingredients in Top 10 Alcoholic Cocktails\")\n",
    "plt.xticks(rotation = 45, ha = 'right')\n",
    "plt.xlabel(\"Cocktail Name\")\n",
    "plt.ylabel(\"Ingredients Count\")\n",
    "plt.savefig('output_data/Ingredients_Count_Alcohol.png', bbox_inches=\"tight\")\n",
    "plt.show()"
   ]
  },
  {
   "cell_type": "code",
   "execution_count": null,
   "metadata": {},
   "outputs": [],
   "source": [
    "drink_non_df.loc[0:9,:].plot(\"Name\",\"Ingredients Count\", kind = 'bar', legend = False, title = \"Number of Ingredients in Top 10 Non-Alcoholic Cocktails\")\n",
    "plt.xticks(rotation = 45, ha = 'right')\n",
    "plt.xlabel(\"Cocktail Name\")\n",
    "plt.ylabel(\"Ingredients Count\")\n",
    "plt.savefig('output_data/Ingredients_Count_NonAlcohol.png', bbox_inches=\"tight\")\n",
    "plt.show()"
   ]
  },
  {
   "cell_type": "code",
   "execution_count": null,
   "metadata": {},
   "outputs": [],
   "source": [
    "# Create dataframe to do statistics on\n",
    "\n",
    "complex_df = drink_al_df[[\"Alcoholic\", \"Ingredients Count\"]]\n",
    "complex_df = complex_df.append(drink_non_df[[\"Alcoholic\", \"Ingredients Count\"]], ignore_index=True)\n",
    "complex_df.replace({True: \"Alcoholic\", False: \"Non-alcoholic\"}, inplace=True)\n",
    "complex_df"
   ]
  },
  {
   "cell_type": "code",
   "execution_count": null,
   "metadata": {},
   "outputs": [],
   "source": [
    "# Create the boxplot to see any statistically significant difference\n",
    "\n",
    "complex_df.boxplot(\"Ingredients Count\", by=\"Alcoholic\", figsize=(10, 5))\n",
    "plt.xlabel(\"\")\n",
    "plt.suptitle('')\n",
    "plt.title(\"Statistical Means of Ingredients Count\")\n",
    "plt.savefig('output_data/Box_Plot_AverageIng.png', bbox_inches=\"tight\")\n",
    "plt.show()"
   ]
  },
  {
   "cell_type": "code",
   "execution_count": null,
   "metadata": {},
   "outputs": [],
   "source": [
    "# Extract groups and perform ANOVA\n",
    "group1 = complex_df[complex_df[\"Alcoholic\"] == \"Alcoholic\"][\"Ingredients Count\"]\n",
    "group2 = complex_df[complex_df[\"Alcoholic\"] == \"Non-alcoholic\"][\"Ingredients Count\"]\n",
    "\n",
    "stats.f_oneway(group1, group2)"
   ]
  },
  {
   "cell_type": "code",
   "execution_count": null,
   "metadata": {},
   "outputs": [],
   "source": [
    "# Restrict to the top 10 from both lists\n",
    "complex2_df = drink_al_df.loc[0:9,:][[\"Alcoholic\", \"Ingredients Count\"]]\n",
    "complex2_df = complex2_df.append(drink_non_df.loc[0:9,:][[\"Alcoholic\", \"Ingredients Count\"]], ignore_index=True)\n",
    "complex2_df.replace({True: \"Alcoholic\", False: \"Non-alcoholic\"}, inplace=True)\n",
    "\n",
    "complex2_df.boxplot(\"Ingredients Count\", by=\"Alcoholic\", figsize=(10, 5))\n",
    "plt.suptitle('')\n",
    "plt.title(\"Statistical Means of Ingredients Count\")\n",
    "plt.savefig('output_data/Box_Plot_AverageIngTop10.png', bbox_inches=\"tight\")\n",
    "plt.show()\n",
    "\n",
    "group1 = complex2_df[complex2_df[\"Alcoholic\"] == \"Alcoholic\"][\"Ingredients Count\"]\n",
    "group2 = complex2_df[complex2_df[\"Alcoholic\"] == \"Non-alcoholic\"][\"Ingredients Count\"]\n",
    "\n",
    "stats.f_oneway(group1, group2)"
   ]
  },
  {
   "cell_type": "code",
   "execution_count": null,
   "metadata": {},
   "outputs": [],
   "source": []
  }
 ],
 "metadata": {
  "kernelspec": {
   "display_name": "Python 3",
   "language": "python",
   "name": "python3"
  },
  "language_info": {
   "codemirror_mode": {
    "name": "ipython",
    "version": 3
   },
   "file_extension": ".py",
   "mimetype": "text/x-python",
   "name": "python",
   "nbconvert_exporter": "python",
   "pygments_lexer": "ipython3",
   "version": "3.7.6"
  }
 },
 "nbformat": 4,
 "nbformat_minor": 4
}
