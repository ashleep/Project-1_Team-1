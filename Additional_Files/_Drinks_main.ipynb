{
 "cells": [
  {
   "cell_type": "code",
   "execution_count": 1,
   "metadata": {},
   "outputs": [],
   "source": [
    "# Dependencies and Setup\n",
    "import matplotlib.pyplot as plt\n",
    "import pandas as pd\n",
    "import numpy as np\n",
    "import requests\n",
    "import gmaps\n",
    "import os\n",
    "import json"
   ]
  },
  {
   "cell_type": "code",
   "execution_count": 2,
   "metadata": {},
   "outputs": [],
   "source": [
    "# Tempory data frame to pull in the drinks.csv file\n",
    "temp_df = pd.read_csv(\"output_data/drinks.csv\")"
   ]
  },
  {
   "cell_type": "code",
   "execution_count": 3,
   "metadata": {},
   "outputs": [
    {
     "data": {
      "text/html": [
       "<div>\n",
       "<style scoped>\n",
       "    .dataframe tbody tr th:only-of-type {\n",
       "        vertical-align: middle;\n",
       "    }\n",
       "\n",
       "    .dataframe tbody tr th {\n",
       "        vertical-align: top;\n",
       "    }\n",
       "\n",
       "    .dataframe thead th {\n",
       "        text-align: right;\n",
       "    }\n",
       "</style>\n",
       "<table border=\"1\" class=\"dataframe\">\n",
       "  <thead>\n",
       "    <tr style=\"text-align: right;\">\n",
       "      <th></th>\n",
       "      <th>Drink ID</th>\n",
       "      <th>Name</th>\n",
       "      <th>Category</th>\n",
       "      <th>Alcoholic</th>\n",
       "      <th>Glass</th>\n",
       "      <th>Ingredients</th>\n",
       "      <th>Measure</th>\n",
       "    </tr>\n",
       "  </thead>\n",
       "  <tbody>\n",
       "    <tr>\n",
       "      <td>0</td>\n",
       "      <td>17222</td>\n",
       "      <td>A1</td>\n",
       "      <td>Cocktail</td>\n",
       "      <td>True</td>\n",
       "      <td>cocktail glass</td>\n",
       "      <td>['Gin', 'Grand Marnier', 'Lemon Juice', 'Grena...</td>\n",
       "      <td>['1 3/4 shot ', '1 Shot ', '1/4 Shot', '1/8 Sh...</td>\n",
       "    </tr>\n",
       "    <tr>\n",
       "      <td>1</td>\n",
       "      <td>13501</td>\n",
       "      <td>ABC</td>\n",
       "      <td>Shot</td>\n",
       "      <td>True</td>\n",
       "      <td>shot glass</td>\n",
       "      <td>['Amaretto', 'Baileys irish cream', 'Cognac']</td>\n",
       "      <td>['1/3 ', '1/3 ', '1/3 ']</td>\n",
       "    </tr>\n",
       "    <tr>\n",
       "      <td>2</td>\n",
       "      <td>17225</td>\n",
       "      <td>Ace</td>\n",
       "      <td>Cocktail</td>\n",
       "      <td>True</td>\n",
       "      <td>martini glass</td>\n",
       "      <td>['Gin', 'Grenadine', 'Heavy cream', 'Milk', 'E...</td>\n",
       "      <td>['2 shots ', '1/2 shot ', '1/2 shot ', '1/2 sh...</td>\n",
       "    </tr>\n",
       "    <tr>\n",
       "      <td>3</td>\n",
       "      <td>17837</td>\n",
       "      <td>Adam</td>\n",
       "      <td>Ordinary Drink</td>\n",
       "      <td>True</td>\n",
       "      <td>cocktail glass</td>\n",
       "      <td>['Dark rum', 'Lemon juice', 'Grenadine']</td>\n",
       "      <td>['2 oz ', '1 oz ', '1 tsp ']</td>\n",
       "    </tr>\n",
       "    <tr>\n",
       "      <td>4</td>\n",
       "      <td>13938</td>\n",
       "      <td>AT&amp;T</td>\n",
       "      <td>Ordinary Drink</td>\n",
       "      <td>True</td>\n",
       "      <td>highball glass</td>\n",
       "      <td>['Absolut Vodka', 'Gin', 'Tonic water']</td>\n",
       "      <td>['1 oz ', '1 oz ', '4 oz ']</td>\n",
       "    </tr>\n",
       "  </tbody>\n",
       "</table>\n",
       "</div>"
      ],
      "text/plain": [
       "   Drink ID  Name        Category  Alcoholic           Glass  \\\n",
       "0     17222    A1        Cocktail       True  cocktail glass   \n",
       "1     13501   ABC            Shot       True      shot glass   \n",
       "2     17225   Ace        Cocktail       True   martini glass   \n",
       "3     17837  Adam  Ordinary Drink       True  cocktail glass   \n",
       "4     13938  AT&T  Ordinary Drink       True  highball glass   \n",
       "\n",
       "                                         Ingredients  \\\n",
       "0  ['Gin', 'Grand Marnier', 'Lemon Juice', 'Grena...   \n",
       "1      ['Amaretto', 'Baileys irish cream', 'Cognac']   \n",
       "2  ['Gin', 'Grenadine', 'Heavy cream', 'Milk', 'E...   \n",
       "3           ['Dark rum', 'Lemon juice', 'Grenadine']   \n",
       "4            ['Absolut Vodka', 'Gin', 'Tonic water']   \n",
       "\n",
       "                                             Measure  \n",
       "0  ['1 3/4 shot ', '1 Shot ', '1/4 Shot', '1/8 Sh...  \n",
       "1                           ['1/3 ', '1/3 ', '1/3 ']  \n",
       "2  ['2 shots ', '1/2 shot ', '1/2 shot ', '1/2 sh...  \n",
       "3                       ['2 oz ', '1 oz ', '1 tsp ']  \n",
       "4                        ['1 oz ', '1 oz ', '4 oz ']  "
      ]
     },
     "execution_count": 3,
     "metadata": {},
     "output_type": "execute_result"
    }
   ],
   "source": [
    "# Display head of data frame. Feel free to delete\n",
    "temp_df.head()"
   ]
  },
  {
   "cell_type": "code",
   "execution_count": 4,
   "metadata": {},
   "outputs": [],
   "source": [
    "# List conversion function. Let me know if there are any issues\n",
    "def convert(s):\n",
    "    lst = []\n",
    "    temp = s.split(\", \")\n",
    "    \n",
    "    for x in temp:\n",
    "        lst.append(x.translate({ord(i): None for i in \"[']\"}))\n",
    "    \n",
    "    return lst"
   ]
  },
  {
   "cell_type": "code",
   "execution_count": 5,
   "metadata": {},
   "outputs": [
    {
     "data": {
      "text/plain": [
       "cocktail glass         93\n",
       "highball glass         77\n",
       "old-fashioned glass    55\n",
       "collins glass          53\n",
       "shot glass             26\n",
       "coffee mug             13\n",
       "wine glass              7\n",
       "champagne flute         7\n",
       "punch bowl              7\n",
       "hurricane glass         6\n",
       "irish coffee cup        5\n",
       "martini glass           4\n",
       "margarita glass         4\n",
       "pitcher                 4\n",
       "nick and nora glass     3\n",
       "pint glass              3\n",
       "balloon glass           3\n",
       "beer mug                3\n",
       "brandy snifter          3\n",
       "mason jar               2\n",
       "beer glass              2\n",
       "beer pilsner            2\n",
       "pousse cafe glass       1\n",
       "copper mug              1\n",
       "cordial glass           1\n",
       "coupe glass             1\n",
       "Name: Glass, dtype: int64"
      ]
     },
     "execution_count": 5,
     "metadata": {},
     "output_type": "execute_result"
    }
   ],
   "source": [
    "# Necessary copy of data frame. The value count is just a test. Feel free to delete that line\n",
    "drink_df = temp_df.copy()\n",
    "drink_df['Glass'].value_counts()"
   ]
  },
  {
   "cell_type": "code",
   "execution_count": 6,
   "metadata": {},
   "outputs": [],
   "source": [
    "# Creation of main data frame. All plots should use this data (i.e. drink_df)\n",
    "for i in range(0, len(drink_df)):\n",
    "    drink_df.at[i,'Ingredients'] = convert(temp_df.loc[i,'Ingredients'])"
   ]
  },
  {
   "cell_type": "code",
   "execution_count": 7,
   "metadata": {
    "scrolled": true
   },
   "outputs": [
    {
     "name": "stdout",
     "output_type": "stream",
     "text": [
      "[('Gin', 72), ('Vodka', 54), ('Sugar', 49), ('Lemon juice', 37), ('Orange juice', 37), ('Lemon', 34), ('Grenadine', 29), ('Ice', 29), ('Light rum', 27), ('Powdered sugar', 26), ('Water', 26), ('Coffee', 24), ('Lime', 24), ('Amaretto', 21), ('Milk', 21), ('Dry Vermouth', 20), ('Kahlua', 19), ('Triple sec', 18), ('Lemon peel', 18), ('Sweet Vermouth', 17), ('Baileys irish cream', 15), ('Rum', 15), ('Tequila', 15), ('Pineapple juice', 14), ('', 14), ('151 proof rum', 13), ('Maraschino cherry', 13), ('Lime juice', 13), ('Scotch', 13), ('Bitters', 13), ('Cherry', 13), ('Brandy', 13), ('Orange', 13), ('Egg white', 12), ('Light cream', 12), ('Lime Juice', 12), ('Carbonated water', 12), ('Dark rum', 11), ('Cranberry juice', 11), ('Ginger ale', 11), ('Nutmeg', 10), ('Mint', 9), ('Bourbon', 9), ('Soda water', 9), ('Coca-Cola', 9), ('Red wine', 9), ('Salt', 8), ('Grand Marnier', 7), ('Club soda', 7), ('Blended whiskey', 7), ('Sambuca', 7), ('Champagne', 7), ('Peach schnapps', 7), ('Sugar syrup', 7), ('Blue Curacao', 7), ('Maraschino liqueur', 7), ('Egg', 7), ('Lemonade', 6), ('Orange bitters', 6), ('Angostura Bitters', 6), ('Galliano', 6), ('Vanilla extract', 6), ('Yoghurt', 6), ('Sweet and sour', 6), ('Chambord raspberry liqueur', 6), ('Lemon Juice', 5), ('Grapefruit juice', 5), ('Apple juice', 5), ('Creme de Cacao', 5), ('Cream', 5), ('Green Chartreuse', 5), ('Goldschlager', 5), ('Port', 5), ('Olive', 5), ('Benedictine', 5), ('Sugar Syrup', 5), ('Cloves', 5), ('Creme de Cassis', 5), ('Lemon-lime soda', 5), ('Wild Turkey', 4), ('Frangelico', 4), ('Maraschino Liqueur', 4), ('Midori melon liqueur', 4), ('Jägermeister', 4), ('Cherry brandy', 4), ('Lager', 4), ('Campari', 4), ('Cointreau', 4), ('Beer', 4), ('Orange peel', 4), ('Cinnamon', 4), ('Malibu rum', 4), ('Tea', 4), ('Ginger', 4), ('Whipped cream', 4), ('Jack Daniels', 4), ('Angostura bitters', 4), ('Cognac', 3), ('Heavy cream', 3), ('Tonic water', 3), ('Blackberry brandy', 3), ('Passion fruit juice', 3), ('Bacardi Limon', 3), ('Sloe gin', 3), ('Southern Comfort', 3), ('Sour mix', 3), ('Everclear', 3), ('Tabasco sauce', 3), ('Spiced rum', 3), ('Absolut Citron', 3), ('Wine', 3), ('Chocolate syrup', 3), ('Espresso', 3), ('Condensed milk', 3), ('Apricot brandy', 3), ('Orange spiral', 3), ('Pineapple', 3), ('Honey', 3), ('Irish whiskey', 3), ('Anis', 3), ('Kool-Aid', 3), ('Cardamom', 3), ('White Creme de Menthe', 3), ('Sherry', 3), ('Crown Royal', 3), ('Root beer', 3), ('Absolut Vodka', 2), ('Applejack', 2), ('Vermouth', 2), ('lemon juice', 2), ('Orange Bitters', 2), ('Irish cream', 2), ('Maraschino Cherry', 2), ('Prosecco', 2), ('Corona', 2), ('Cherry Heering', 2), ('Surge', 2), ('Tomato juice', 2), ('Cachaca', 2), ('Egg yolk', 2), ('Chocolate', 2), ('Grain alcohol', 2), ('Cider', 2), ('Fruit punch', 2), ('Sprite', 2), ('Pisco', 2), ('Ginger Beer', 2), ('Hot Damn', 2), ('Whipping cream', 2), ('Banana', 2), ('Strawberries', 2), ('Apple', 2), ('Orange Peel', 2), ('Grapefruit Juice', 2), ('lemon', 2), ('Soda Water', 2), ('Green Creme de Menthe', 2), ('White Rum', 2), ('Grape juice', 2), ('Sherbet', 2), ('Brown sugar', 2), ('Half-and-half', 2), ('Coffee liqueur', 2), ('Absolut Kurant', 2), ('Schweppes Russchian', 2), ('Lime peel', 2), ('Drambuie', 2), ('Cocoa powder', 2), ('Orgeat syrup', 2), ('Pepsi Cola', 2), ('Butterscotch schnapps', 2), ('Orange Juice', 2), ('7-Up', 2), ('Tonic Water', 2), ('Jim Beam', 2), ('Irish Whiskey', 2), ('Triple Sec', 2), ('Zima', 2), ('Egg White', 1), ('Strawberry schnapps', 1), ('Pisang Ambon', 1), ('Peach nectar', 1), ('maraschino liqueur', 1), ('Creme de Mure', 1), ('Rye Whiskey', 1), ('Pineapple Juice', 1), ('Hot Chocolate', 1), ('Wormwood', 1), ('Banana liqueur', 1), ('Mountain Dew', 1), ('Worcestershire sauce', 1), ('Falernum', 1), ('Añejo rum', 1), ('blackstrap rum', 1), ('Vanilla', 1), ('Caramel coloring', 1), ('White rum', 1), ('Chocolate liqueur', 1), ('Peppermint extract', 1), ('Food coloring', 1), ('gin', 1), ('Peach Bitters', 1), ('Blackcurrant cordial', 1), ('Olive Brine', 1), ('demerara Sugar', 1), ('Pineapple Syrup', 1), ('St. Germain', 1), ('Pepper', 1), ('Lavender', 1), ('Dark Rum', 1), ('Whiskey', 1), ('Dubonnet Rouge', 1), ('Vanilla syrup', 1), ('Fruit', 1), ('Raspberry Liqueur', 1), ('pineapple juice', 1), ('Lillet', 1), ('Fruit juice', 1), ('Firewater', 1), ('Absolut Peppar', 1), ('Dr. Pepper', 1), ('Sarsaparilla', 1), ('Peach Vodka', 1), ('Sirup of roses', 1), ('Whisky', 1), ('Blackberries', 1), ('Carbonated soft drink', 1), ('Corn syrup', 1), ('Cherry Juice', 1), ('Red Chili Flakes', 1), ('Coconut syrup', 1), ('Iced tea', 1), ('Peach brandy', 1), ('Guinness stout', 1), ('Aperol', 1), ('Jello', 1), ('Mint syrup', 1), ('Yellow Chartreuse', 1), ('Apple brandy', 1), ('Kiwi liqueur', 1), ('Bitter lemon', 1), ('Cranberry vodka', 1), ('Apfelkorn', 1), ('Kiwi', 1), ('Papaya', 1), ('Asafoetida', 1), ('Cayenne pepper', 1), ('Tia maria', 1), ('Mango', 1), ('Pina colada mix', 1), ('Daiquiri mix', 1), ('Absinthe', 1), ('Black pepper', 1), ('Cucumber', 1), ('Rye whiskey', 1), ('Vanilla ice-cream', 1), ('Oreo cookie', 1), ('Bailey', 1), ('Jagermeister', 1), ('Grape Soda', 1), ('Apricot Brandy', 1), ('Orange Curacao', 1), ('Egg Yolk', 1), ('Blended Scotch', 1), ('Honey syrup', 1), ('Ginger Syrup', 1), ('Islay single malt Scotch', 1), ('Coconut milk', 1), ('Cherry liqueur', 1), ('Pink lemonade', 1), ('Coffee brandy', 1), ('Lime vodka', 1), ('Black Sambuca', 1), ('Raspberry syrup', 1), ('Rosemary', 1), ('Raspberry vodka', 1), ('Ricard', 1), ('Peychaud bitters', 1), ('Advocaat', 1), ('Allspice', 1), ('Godiva liqueur', 1), ('Anisette', 1), ('Fresca', 1), ('Creme de Banane', 1), ('Cherries', 1), ('Celery salt', 1), ('Coriander', 1), ('Elderflower cordial', 1), ('Rosso Vermouth', 1), ('7-up', 1), ('Cranberry Juice', 1), ('Yukon Jack', 1), ('Agave syrup', 1), ('Lillet Blanc', 1), ('Tomato Juice', 1), ('Maple syrup', 1), ('Limeade', 1), ('Cream of coconut', 1), ('Peachtree schnapps', 1), ('Gold rum', 1), ('Pernod', 1), ('Ouzo', 1), ('Johnnie Walker', 1), ('Vanilla vodka', 1)]\n"
     ]
    }
   ],
   "source": [
    "# Creation of sorted list of tuples. Useful for most used ingredient\n",
    "ing_count = {}\n",
    "for i in range(0, len(drink_df)):\n",
    "    for ing in drink_df.loc[i,'Ingredients']:\n",
    "        if ing in ing_count:\n",
    "            ing_count[ing] = ing_count[ing] + 1\n",
    "        else:\n",
    "            ing_count[ing] = 1\n",
    "            \n",
    "#print(ing_count)\n",
    "a=sorted(ing_count.items(), key=lambda x: x[1], reverse = True)\n",
    "print(a)\n",
    "#print(drink2_df['Ingredients'].to_string())"
   ]
  },
  {
   "cell_type": "code",
   "execution_count": 8,
   "metadata": {},
   "outputs": [
    {
     "data": {
      "text/html": [
       "<div>\n",
       "<style scoped>\n",
       "    .dataframe tbody tr th:only-of-type {\n",
       "        vertical-align: middle;\n",
       "    }\n",
       "\n",
       "    .dataframe tbody tr th {\n",
       "        vertical-align: top;\n",
       "    }\n",
       "\n",
       "    .dataframe thead th {\n",
       "        text-align: right;\n",
       "    }\n",
       "</style>\n",
       "<table border=\"1\" class=\"dataframe\">\n",
       "  <thead>\n",
       "    <tr style=\"text-align: right;\">\n",
       "      <th></th>\n",
       "      <th>Drink ID</th>\n",
       "      <th>Name</th>\n",
       "      <th>Category</th>\n",
       "      <th>Alcoholic</th>\n",
       "      <th>Glass</th>\n",
       "      <th>Ingredients</th>\n",
       "      <th>Measure</th>\n",
       "      <th>Ingredients Count</th>\n",
       "    </tr>\n",
       "  </thead>\n",
       "  <tbody>\n",
       "    <tr>\n",
       "      <td>0</td>\n",
       "      <td>17222</td>\n",
       "      <td>A1</td>\n",
       "      <td>Cocktail</td>\n",
       "      <td>True</td>\n",
       "      <td>cocktail glass</td>\n",
       "      <td>[Gin, Grand Marnier, Lemon Juice, Grenadine]</td>\n",
       "      <td>['1 3/4 shot ', '1 Shot ', '1/4 Shot', '1/8 Sh...</td>\n",
       "      <td>4</td>\n",
       "    </tr>\n",
       "    <tr>\n",
       "      <td>1</td>\n",
       "      <td>13501</td>\n",
       "      <td>ABC</td>\n",
       "      <td>Shot</td>\n",
       "      <td>True</td>\n",
       "      <td>shot glass</td>\n",
       "      <td>[Amaretto, Baileys irish cream, Cognac]</td>\n",
       "      <td>['1/3 ', '1/3 ', '1/3 ']</td>\n",
       "      <td>3</td>\n",
       "    </tr>\n",
       "    <tr>\n",
       "      <td>2</td>\n",
       "      <td>17225</td>\n",
       "      <td>Ace</td>\n",
       "      <td>Cocktail</td>\n",
       "      <td>True</td>\n",
       "      <td>martini glass</td>\n",
       "      <td>[Gin, Grenadine, Heavy cream, Milk, Egg White]</td>\n",
       "      <td>['2 shots ', '1/2 shot ', '1/2 shot ', '1/2 sh...</td>\n",
       "      <td>5</td>\n",
       "    </tr>\n",
       "    <tr>\n",
       "      <td>3</td>\n",
       "      <td>17837</td>\n",
       "      <td>Adam</td>\n",
       "      <td>Ordinary Drink</td>\n",
       "      <td>True</td>\n",
       "      <td>cocktail glass</td>\n",
       "      <td>[Dark rum, Lemon juice, Grenadine]</td>\n",
       "      <td>['2 oz ', '1 oz ', '1 tsp ']</td>\n",
       "      <td>3</td>\n",
       "    </tr>\n",
       "    <tr>\n",
       "      <td>4</td>\n",
       "      <td>13938</td>\n",
       "      <td>AT&amp;T</td>\n",
       "      <td>Ordinary Drink</td>\n",
       "      <td>True</td>\n",
       "      <td>highball glass</td>\n",
       "      <td>[Absolut Vodka, Gin, Tonic water]</td>\n",
       "      <td>['1 oz ', '1 oz ', '4 oz ']</td>\n",
       "      <td>3</td>\n",
       "    </tr>\n",
       "  </tbody>\n",
       "</table>\n",
       "</div>"
      ],
      "text/plain": [
       "   Drink ID  Name        Category  Alcoholic           Glass  \\\n",
       "0     17222    A1        Cocktail       True  cocktail glass   \n",
       "1     13501   ABC            Shot       True      shot glass   \n",
       "2     17225   Ace        Cocktail       True   martini glass   \n",
       "3     17837  Adam  Ordinary Drink       True  cocktail glass   \n",
       "4     13938  AT&T  Ordinary Drink       True  highball glass   \n",
       "\n",
       "                                      Ingredients  \\\n",
       "0    [Gin, Grand Marnier, Lemon Juice, Grenadine]   \n",
       "1         [Amaretto, Baileys irish cream, Cognac]   \n",
       "2  [Gin, Grenadine, Heavy cream, Milk, Egg White]   \n",
       "3              [Dark rum, Lemon juice, Grenadine]   \n",
       "4               [Absolut Vodka, Gin, Tonic water]   \n",
       "\n",
       "                                             Measure  Ingredients Count  \n",
       "0  ['1 3/4 shot ', '1 Shot ', '1/4 Shot', '1/8 Sh...                  4  \n",
       "1                           ['1/3 ', '1/3 ', '1/3 ']                  3  \n",
       "2  ['2 shots ', '1/2 shot ', '1/2 shot ', '1/2 sh...                  5  \n",
       "3                       ['2 oz ', '1 oz ', '1 tsp ']                  3  \n",
       "4                        ['1 oz ', '1 oz ', '4 oz ']                  3  "
      ]
     },
     "execution_count": 8,
     "metadata": {},
     "output_type": "execute_result"
    }
   ],
   "source": [
    "# Creation of new series. Feel free to delete if not needed.\n",
    "\n",
    "drink_df['Ingredients Count'] = 0\n",
    "for i in range(0, len(drink_df)):\n",
    "    drink_df.loc[i,'Ingredients Count'] = len(drink_df.loc[i,'Ingredients'])\n",
    "drink_df.head()"
   ]
  },
  {
   "cell_type": "code",
   "execution_count": 9,
   "metadata": {},
   "outputs": [],
   "source": [
    "# Phase One Below -- Note these phases can be merged."
   ]
  },
  {
   "cell_type": "code",
   "execution_count": 10,
   "metadata": {},
   "outputs": [],
   "source": [
    "liquor_count = pd.DataFrame.from_dict(ing_count, orient='index')\n",
    "liquor_count.reset_index(level=0, inplace=True)\n",
    "liquor_count.columns = ['Name','Count']\n",
    "liquor_count['Name'] = liquor_count['Name'].str.lower()\n",
    "liquor_count = liquor_count.sort_values(by=['Count'], ascending=False)\n",
    "liquor_count.to_csv('ingredients_list.csv')"
   ]
  },
  {
   "cell_type": "code",
   "execution_count": 11,
   "metadata": {},
   "outputs": [],
   "source": [
    "# Phase Two -- Note these phases can be merged."
   ]
  },
  {
   "cell_type": "code",
   "execution_count": 12,
   "metadata": {},
   "outputs": [],
   "source": [
    "#df = pd.read_csv(\"ingredients_list.csv\")\n",
    "#df = df.drop('Unnamed: 0', axis=1)\n",
    "#df.head(1)"
   ]
  },
  {
   "cell_type": "code",
   "execution_count": 13,
   "metadata": {
    "scrolled": true
   },
   "outputs": [],
   "source": [
    "#drink_names = df.Name"
   ]
  },
  {
   "cell_type": "code",
   "execution_count": 14,
   "metadata": {},
   "outputs": [],
   "source": [
    "# alcoholic = []\n",
    "# non_alcoholic = []"
   ]
  },
  {
   "cell_type": "code",
   "execution_count": 15,
   "metadata": {},
   "outputs": [],
   "source": [
    "# Do not un-comment and run this please\n",
    "# for d in drink_names:\n",
    "#         answer = input(f\"Is {d} alcoholic?\\r\")\n",
    "#         if answer == \"\" or answer == \"y\":\n",
    "#             alcoholic.append(d)\n",
    "#         else:\n",
    "#             non_alcoholic.append(d)"
   ]
  },
  {
   "cell_type": "code",
   "execution_count": 16,
   "metadata": {},
   "outputs": [],
   "source": [
    "#alcoholic_df = pd.Series(alcoholic).dropna()\n",
    "#non_alcoholic_df = pd.Series(non_alcoholic).dropna()"
   ]
  },
  {
   "cell_type": "code",
   "execution_count": 17,
   "metadata": {},
   "outputs": [],
   "source": [
    "#alcoholic_df.to_csv(\"alcohol_items.csv\", header=True)\n",
    "#non_alcoholic_df.to_csv(\"non_alcohol_items.csv\", header=True)"
   ]
  },
  {
   "cell_type": "code",
   "execution_count": 18,
   "metadata": {},
   "outputs": [],
   "source": [
    "# Phase Three -- Note these phases can be merged."
   ]
  },
  {
   "cell_type": "code",
   "execution_count": 19,
   "metadata": {},
   "outputs": [],
   "source": [
    "alcoholic_df = pd.read_csv('alcohol_items.csv')\n",
    "non_alcohol_df = pd.read_csv('non_alcohol_items.csv')\n",
    "alcoholic_df = alcoholic_df.drop('Unnamed: 0', axis=1)\n",
    "non_alcohol_df = non_alcohol_df.drop('Unnamed: 0', axis=1)"
   ]
  },
  {
   "cell_type": "code",
   "execution_count": 20,
   "metadata": {},
   "outputs": [],
   "source": [
    "alcohol_groups = [\n",
    "    'gin','liqueur','vodka','rum',\n",
    "    'schnapps','scotch','wine','creme',\n",
    "    'vermouth','sambuca','whiskey','tequila',\n",
    "    'absolut','brandy'\n",
    "]"
   ]
  },
  {
   "cell_type": "code",
   "execution_count": 21,
   "metadata": {},
   "outputs": [],
   "source": [
    "#converter\n",
    "for g in alcohol_groups:\n",
    "    converter = alcoholic_df.loc[alcoholic_df['Names'].str.contains(g), 'Names'] = g"
   ]
  },
  {
   "cell_type": "code",
   "execution_count": 22,
   "metadata": {},
   "outputs": [],
   "source": [
    "alcohol_names = alcoholic_df.groupby(['Names'])\n",
    "add_values = alcohol_names['Count'].sum()\n",
    "alcoholic_df_ = pd.DataFrame(add_values)"
   ]
  },
  {
   "cell_type": "code",
   "execution_count": 23,
   "metadata": {},
   "outputs": [],
   "source": [
    "alcoholic_df_ = alcoholic_df_.sort_values(by=['Count'], ascending=False).reset_index()"
   ]
  },
  {
   "cell_type": "code",
   "execution_count": 24,
   "metadata": {},
   "outputs": [
    {
     "name": "stdout",
     "output_type": "stream",
     "text": [
      "(1/88) Categorize rum: rum\n",
      "(2/88) Categorize gin: gin\n",
      "(3/88) Categorize vodka: vodka\n",
      "(4/88) Categorize vermouth: wine\n",
      "(5/88) Categorize liqueur: liqueur\n",
      "(6/88) Categorize brandy: spirit\n",
      "(7/88) Categorize amaretto: liqueur\n",
      "(8/88) Categorize triple sec: liqueur\n",
      "(9/88) Categorize kahlua: liqueur\n",
      "(10/88) Categorize creme: miscellaneous\n",
      "(11/88) Categorize whiskey: whiskey\n",
      "(12/88) Categorize scotch: whiskey\n",
      "(13/88) Categorize baileys irish cream: miscellaneous\n",
      "(14/88) Categorize tequila: tequila\n",
      "(15/88) Categorize wine: wine\n",
      "(16/88) Categorize schnapps: schnapps\n",
      "(17/88) Categorize bourbon: whiskey\n",
      "(18/88) Categorize sambuca: liqueur\n",
      "(19/88) Categorize blue curacao: liqueur\n",
      "(20/88) Categorize grand marnier: liqueur\n",
      "(21/88) Categorize champagne: wine\n",
      "(22/88) Categorize galliano: liqueur\n",
      "(23/88) Categorize absolut: vodka\n",
      "(24/88) Categorize goldschlager: schnapps\n",
      "(25/88) Categorize port: wine\n",
      "(26/88) Categorize green chartreuse: liqueur\n",
      "(27/88) Categorize benedictine: liqueur\n",
      "(28/88) Categorize cointreau: liqueur\n",
      "(29/88) Categorize frangelico: liqueur\n",
      "(30/88) Categorize jägermeister: digestif\n",
      "(31/88) Categorize jack daniels: whiskey\n",
      "(32/88) Categorize wild turkey: whiskey\n",
      "(33/88) Categorize campari: liqueur\n",
      "(34/88) Categorize beer: beer\n",
      "(35/88) Categorize lager: beer\n",
      "(36/88) Categorize anis: non-alcoholic\n",
      "(37/88) Categorize bacardi limon: rum\n",
      "(38/88) Categorize southern comfort: liqueur\n",
      "(39/88) Categorize sherry: wine\n",
      "(40/88) Categorize cognac: spirit\n",
      "(41/88) Categorize everclear: spirit\n",
      "(42/88) Categorize cardamom: non-alcoholic\n",
      "(43/88) Categorize crown royal: whiskey\n",
      "(44/88) Categorize pisco: spirit\n",
      "(45/88) Categorize prosecco: wine\n",
      "(46/88) Categorize schweppes russchian: non-alcoholic\n",
      "(47/88) Categorize jim beam: whiskey\n",
      "(48/88) Categorize zima: miscellaneous\n",
      "(49/88) Categorize irish cream: miscellaneous\n",
      "(50/88) Categorize drambuie: liqueur\n",
      "(51/88) Categorize applejack: spirit\n",
      "(52/88) Categorize cachaca: spirit\n",
      "(53/88) Categorize cherry heering: liqueur\n",
      "(54/88) Categorize cider: miscellaneous\n",
      "(55/88) Categorize corona: beer\n",
      "(56/88) Categorize grain alcohol: spirit\n",
      "(57/88) Categorize hot damn: schnapps\n",
      "(58/88) Categorize guinness stout: beer\n",
      "(59/88) Categorize yukon jack: liqueur\n",
      "(60/88) Categorize yellow chartreuse: liqueur\n",
      "(61/88) Categorize advocaat: miscellaneous\n",
      "(62/88) Categorize anisette: liqueur\n",
      "(63/88) Categorize whisky: whiskey\n",
      "(64/88) Categorize aperol: miscellaneous\n",
      "(65/88) Categorize apfelkorn: liqueur\n",
      "(66/88) Categorize asafoetida: non-alcoholic\n",
      "(67/88) Categorize tia maria: liqueur\n",
      "(68/88) Categorize bailey: miscellaneous\n",
      "(69/88) Categorize st. germain: liqueur\n",
      "(70/88) Categorize blackcurrant cordial: liqueur\n",
      "(71/88) Categorize johnnie walker: whiskey\n",
      "(72/88) Categorize lillet: wine\n",
      "(73/88) Categorize lillet blanc: wine\n",
      "(74/88) Categorize coriander: non-alcoholic\n",
      "(75/88) Categorize sarsaparilla: non-alcoholic\n",
      "(76/88) Categorize jagermeister: digestif\n",
      "(77/88) Categorize daiquiri mix: non-alcoholic\n",
      "(78/88) Categorize ricard: liqueur\n",
      "(79/88) Categorize firewater: whiskey\n",
      "(80/88) Categorize dubonnet rouge: apertif\n",
      "(81/88) Categorize elderflower cordial: liqueur\n",
      "(82/88) Categorize pisang ambon: liqueur\n",
      "(83/88) Categorize pina colada mix: non-alcoholic\n",
      "(84/88) Categorize pernod: liqueur\n",
      "(85/88) Categorize ouzo: apertif\n",
      "(86/88) Categorize orange curacao: liqueur\n",
      "(87/88) Categorize falernum: liqueur\n",
      "(88/88) Categorize absinthe: spirit\n"
     ]
    }
   ],
   "source": [
    "# Do not run this please.\n",
    "# Categorization = []\n",
    "# counter = 1\n",
    "# for n in alcoholic_df_['Names']:\n",
    "#     categorization = input(f\"({counter}/{(len(alcoholic_df_))}) Categorize {n}: \")\n",
    "#     Categorization.append(categorization)\n",
    "#     counter += 1"
   ]
  },
  {
   "cell_type": "code",
   "execution_count": 40,
   "metadata": {},
   "outputs": [
    {
     "data": {
      "text/html": [
       "<div>\n",
       "<style scoped>\n",
       "    .dataframe tbody tr th:only-of-type {\n",
       "        vertical-align: middle;\n",
       "    }\n",
       "\n",
       "    .dataframe tbody tr th {\n",
       "        vertical-align: top;\n",
       "    }\n",
       "\n",
       "    .dataframe thead th {\n",
       "        text-align: right;\n",
       "    }\n",
       "</style>\n",
       "<table border=\"1\" class=\"dataframe\">\n",
       "  <thead>\n",
       "    <tr style=\"text-align: right;\">\n",
       "      <th></th>\n",
       "      <th>Count</th>\n",
       "      <th>Category</th>\n",
       "    </tr>\n",
       "  </thead>\n",
       "  <tbody>\n",
       "    <tr>\n",
       "      <td>0</td>\n",
       "      <td>81</td>\n",
       "      <td>rum</td>\n",
       "    </tr>\n",
       "    <tr>\n",
       "      <td>1</td>\n",
       "      <td>76</td>\n",
       "      <td>gin</td>\n",
       "    </tr>\n",
       "    <tr>\n",
       "      <td>2</td>\n",
       "      <td>61</td>\n",
       "      <td>vodka</td>\n",
       "    </tr>\n",
       "    <tr>\n",
       "      <td>3</td>\n",
       "      <td>40</td>\n",
       "      <td>wine</td>\n",
       "    </tr>\n",
       "    <tr>\n",
       "      <td>4</td>\n",
       "      <td>33</td>\n",
       "      <td>liqueur</td>\n",
       "    </tr>\n",
       "    <tr>\n",
       "      <td>...</td>\n",
       "      <td>...</td>\n",
       "      <td>...</td>\n",
       "    </tr>\n",
       "    <tr>\n",
       "      <td>83</td>\n",
       "      <td>1</td>\n",
       "      <td>liqueur</td>\n",
       "    </tr>\n",
       "    <tr>\n",
       "      <td>84</td>\n",
       "      <td>1</td>\n",
       "      <td>apertif</td>\n",
       "    </tr>\n",
       "    <tr>\n",
       "      <td>85</td>\n",
       "      <td>1</td>\n",
       "      <td>liqueur</td>\n",
       "    </tr>\n",
       "    <tr>\n",
       "      <td>86</td>\n",
       "      <td>1</td>\n",
       "      <td>liqueur</td>\n",
       "    </tr>\n",
       "    <tr>\n",
       "      <td>87</td>\n",
       "      <td>1</td>\n",
       "      <td>spirit</td>\n",
       "    </tr>\n",
       "  </tbody>\n",
       "</table>\n",
       "<p>88 rows × 2 columns</p>\n",
       "</div>"
      ],
      "text/plain": [
       "    Count Category\n",
       "0      81      rum\n",
       "1      76      gin\n",
       "2      61    vodka\n",
       "3      40     wine\n",
       "4      33  liqueur\n",
       "..    ...      ...\n",
       "83      1  liqueur\n",
       "84      1  apertif\n",
       "85      1  liqueur\n",
       "86      1  liqueur\n",
       "87      1   spirit\n",
       "\n",
       "[88 rows x 2 columns]"
      ]
     },
     "execution_count": 40,
     "metadata": {},
     "output_type": "execute_result"
    }
   ],
   "source": [
    "alcoholic_df_['Category'] = Categorization\n",
    "alcoholic_df_ = alcoholic_df_.drop(columns=['Names'])\n",
    "alcoholic_df_"
   ]
  },
  {
   "cell_type": "code",
   "execution_count": 41,
   "metadata": {},
   "outputs": [],
   "source": [
    "alcohol_categories = alcoholic_df_.groupby(['Category'])\n",
    "add_totals = alcohol_categories['Count'].sum()\n",
    "alcohol_categories_df = pd.DataFrame(add_totals)"
   ]
  },
  {
   "cell_type": "code",
   "execution_count": 42,
   "metadata": {},
   "outputs": [],
   "source": [
    "alcohol_categories_df = alcohol_categories_df.sort_values(by=['Count'], ascending=False).reset_index()"
   ]
  },
  {
   "cell_type": "code",
   "execution_count": 53,
   "metadata": {},
   "outputs": [
    {
     "data": {
      "text/html": [
       "<div>\n",
       "<style scoped>\n",
       "    .dataframe tbody tr th:only-of-type {\n",
       "        vertical-align: middle;\n",
       "    }\n",
       "\n",
       "    .dataframe tbody tr th {\n",
       "        vertical-align: top;\n",
       "    }\n",
       "\n",
       "    .dataframe thead th {\n",
       "        text-align: right;\n",
       "    }\n",
       "</style>\n",
       "<table border=\"1\" class=\"dataframe\">\n",
       "  <thead>\n",
       "    <tr style=\"text-align: right;\">\n",
       "      <th></th>\n",
       "      <th>Category</th>\n",
       "      <th>Count</th>\n",
       "    </tr>\n",
       "  </thead>\n",
       "  <tbody>\n",
       "    <tr>\n",
       "      <td>0</td>\n",
       "      <td>liqueur</td>\n",
       "      <td>163</td>\n",
       "    </tr>\n",
       "    <tr>\n",
       "      <td>1</td>\n",
       "      <td>rum</td>\n",
       "      <td>84</td>\n",
       "    </tr>\n",
       "    <tr>\n",
       "      <td>2</td>\n",
       "      <td>gin</td>\n",
       "      <td>76</td>\n",
       "    </tr>\n",
       "    <tr>\n",
       "      <td>3</td>\n",
       "      <td>wine</td>\n",
       "      <td>71</td>\n",
       "    </tr>\n",
       "    <tr>\n",
       "      <td>4</td>\n",
       "      <td>vodka</td>\n",
       "      <td>67</td>\n",
       "    </tr>\n",
       "    <tr>\n",
       "      <td>5</td>\n",
       "      <td>whiskey</td>\n",
       "      <td>56</td>\n",
       "    </tr>\n",
       "    <tr>\n",
       "      <td>6</td>\n",
       "      <td>spirit</td>\n",
       "      <td>44</td>\n",
       "    </tr>\n",
       "    <tr>\n",
       "      <td>7</td>\n",
       "      <td>miscellaneous</td>\n",
       "      <td>41</td>\n",
       "    </tr>\n",
       "    <tr>\n",
       "      <td>8</td>\n",
       "      <td>schnapps</td>\n",
       "      <td>18</td>\n",
       "    </tr>\n",
       "    <tr>\n",
       "      <td>9</td>\n",
       "      <td>tequila</td>\n",
       "      <td>15</td>\n",
       "    </tr>\n",
       "    <tr>\n",
       "      <td>10</td>\n",
       "      <td>non-alcoholic</td>\n",
       "      <td>13</td>\n",
       "    </tr>\n",
       "    <tr>\n",
       "      <td>11</td>\n",
       "      <td>beer</td>\n",
       "      <td>11</td>\n",
       "    </tr>\n",
       "    <tr>\n",
       "      <td>12</td>\n",
       "      <td>digestif</td>\n",
       "      <td>5</td>\n",
       "    </tr>\n",
       "    <tr>\n",
       "      <td>13</td>\n",
       "      <td>apertif</td>\n",
       "      <td>2</td>\n",
       "    </tr>\n",
       "  </tbody>\n",
       "</table>\n",
       "</div>"
      ],
      "text/plain": [
       "         Category  Count\n",
       "0         liqueur    163\n",
       "1             rum     84\n",
       "2             gin     76\n",
       "3            wine     71\n",
       "4           vodka     67\n",
       "5         whiskey     56\n",
       "6          spirit     44\n",
       "7   miscellaneous     41\n",
       "8        schnapps     18\n",
       "9         tequila     15\n",
       "10  non-alcoholic     13\n",
       "11           beer     11\n",
       "12       digestif      5\n",
       "13        apertif      2"
      ]
     },
     "execution_count": 53,
     "metadata": {},
     "output_type": "execute_result"
    }
   ],
   "source": [
    "alcohol_categories_df"
   ]
  },
  {
   "cell_type": "code",
   "execution_count": 44,
   "metadata": {},
   "outputs": [],
   "source": [
    "#alcohol_categories_df.to_csv(\"alcohol_categories.csv\")"
   ]
  },
  {
   "cell_type": "code",
   "execution_count": 79,
   "metadata": {},
   "outputs": [
    {
     "data": {
      "image/png": "[encoded data removed]",
      "text/plain": [
       "<Figure size 432x288 with 1 Axes>"
      ]
     },
     "metadata": {},
     "output_type": "display_data"
    }
   ],
   "source": [
    "fig1, ax1 = plt.subplots()\n",
    "ax1.pie(alcohol_categories_df['Count'][0:9], labels=alcohol_categories_df['Category'][0:9], \n",
    "        explode=[0.1,0,0,0,0,0,0,0,0], autopct='%1.1f%%', pctdistance=0.7, labeldistance=1.1, shadow=True)\n",
    "ax1.axis('equal')  # Equal aspect ratio ensures that pie is drawn as a circle.\n",
    "\n",
    "plt.show()"
   ]
  },
  {
   "cell_type": "code",
   "execution_count": 78,
   "metadata": {},
   "outputs": [
    {
     "data": {
      "image/png": "[encoded data removed]",
      "text/plain": [
       "<Figure size 432x288 with 1 Axes>"
      ]
     },
     "metadata": {},
     "output_type": "display_data"
    }
   ],
   "source": [
    "fig1, ax1 = plt.subplots()\n",
    "ax1.pie(alcohol_categories_df['Count'][1:10], labels=alcohol_categories_df['Category'][1:10], \n",
    "        explode=[0.1,0,0,0,0,0,0,0,0], autopct='%1.1f%%', pctdistance=0.7, labeldistance=1.1, shadow=True)\n",
    "ax1.axis('equal')  # Equal aspect ratio ensures that pie is drawn as a circle.\n",
    "\n",
    "plt.show()"
   ]
  },
  {
   "cell_type": "code",
   "execution_count": null,
   "metadata": {},
   "outputs": [],
   "source": []
  }
 ],
 "metadata": {
  "kernelspec": {
   "display_name": "Python 3",
   "language": "python",
   "name": "python3"
  },
  "language_info": {
   "codemirror_mode": {
    "name": "ipython",
    "version": 3
   },
   "file_extension": ".py",
   "mimetype": "text/x-python",
   "name": "python",
   "nbconvert_exporter": "python",
   "pygments_lexer": "ipython3",
   "version": "3.7.4"
  }
 },
 "nbformat": 4,
 "nbformat_minor": 4
}
