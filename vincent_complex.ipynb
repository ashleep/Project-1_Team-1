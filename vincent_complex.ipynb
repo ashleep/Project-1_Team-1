{
 "cells": [
  {
   "cell_type": "code",
   "execution_count": 1,
   "metadata": {},
   "outputs": [],
   "source": [
    "# Dependencies and Setup\n",
    "import matplotlib.pyplot as plt\n",
    "import pandas as pd\n",
    "import numpy as np\n",
    "import requests\n",
    "import gmaps\n",
    "import os\n",
    "import json\n",
    "import scipy.stats as stats"
   ]
  },
  {
   "cell_type": "code",
   "execution_count": 2,
   "metadata": {},
   "outputs": [],
   "source": [
    "# Tempory data frame to pull in the drinks.csv file\n",
    "temp_df = pd.read_csv(\"output_data/drinks.csv\")"
   ]
  },
  {
   "cell_type": "code",
   "execution_count": 3,
   "metadata": {},
   "outputs": [
    {
     "data": {
      "text/html": [
       "<div>\n",
       "<style scoped>\n",
       "    .dataframe tbody tr th:only-of-type {\n",
       "        vertical-align: middle;\n",
       "    }\n",
       "\n",
       "    .dataframe tbody tr th {\n",
       "        vertical-align: top;\n",
       "    }\n",
       "\n",
       "    .dataframe thead th {\n",
       "        text-align: right;\n",
       "    }\n",
       "</style>\n",
       "<table border=\"1\" class=\"dataframe\">\n",
       "  <thead>\n",
       "    <tr style=\"text-align: right;\">\n",
       "      <th></th>\n",
       "      <th>Drink ID</th>\n",
       "      <th>Name</th>\n",
       "      <th>Category</th>\n",
       "      <th>Alcoholic</th>\n",
       "      <th>Glass</th>\n",
       "      <th>Ingredients</th>\n",
       "      <th>Measure</th>\n",
       "    </tr>\n",
       "  </thead>\n",
       "  <tbody>\n",
       "    <tr>\n",
       "      <th>0</th>\n",
       "      <td>17222</td>\n",
       "      <td>A1</td>\n",
       "      <td>Cocktail</td>\n",
       "      <td>True</td>\n",
       "      <td>cocktail glass</td>\n",
       "      <td>['Gin', 'Grand Marnier', 'Lemon Juice', 'Grena...</td>\n",
       "      <td>['1 3/4 shot ', '1 Shot ', '1/4 Shot', '1/8 Sh...</td>\n",
       "    </tr>\n",
       "    <tr>\n",
       "      <th>1</th>\n",
       "      <td>13501</td>\n",
       "      <td>ABC</td>\n",
       "      <td>Shot</td>\n",
       "      <td>True</td>\n",
       "      <td>shot glass</td>\n",
       "      <td>['Amaretto', 'Baileys irish cream', 'Cognac']</td>\n",
       "      <td>['1/3 ', '1/3 ', '1/3 ']</td>\n",
       "    </tr>\n",
       "    <tr>\n",
       "      <th>2</th>\n",
       "      <td>17225</td>\n",
       "      <td>Ace</td>\n",
       "      <td>Cocktail</td>\n",
       "      <td>True</td>\n",
       "      <td>martini glass</td>\n",
       "      <td>['Gin', 'Grenadine', 'Heavy cream', 'Milk', 'E...</td>\n",
       "      <td>['2 shots ', '1/2 shot ', '1/2 shot ', '1/2 sh...</td>\n",
       "    </tr>\n",
       "    <tr>\n",
       "      <th>3</th>\n",
       "      <td>17837</td>\n",
       "      <td>Adam</td>\n",
       "      <td>Ordinary Drink</td>\n",
       "      <td>True</td>\n",
       "      <td>cocktail glass</td>\n",
       "      <td>['Dark rum', 'Lemon juice', 'Grenadine']</td>\n",
       "      <td>['2 oz ', '1 oz ', '1 tsp ']</td>\n",
       "    </tr>\n",
       "    <tr>\n",
       "      <th>4</th>\n",
       "      <td>13938</td>\n",
       "      <td>AT&amp;T</td>\n",
       "      <td>Ordinary Drink</td>\n",
       "      <td>True</td>\n",
       "      <td>highball glass</td>\n",
       "      <td>['Absolut Vodka', 'Gin', 'Tonic water']</td>\n",
       "      <td>['1 oz ', '1 oz ', '4 oz ']</td>\n",
       "    </tr>\n",
       "  </tbody>\n",
       "</table>\n",
       "</div>"
      ],
      "text/plain": [
       "   Drink ID  Name        Category  Alcoholic           Glass  \\\n",
       "0     17222    A1        Cocktail       True  cocktail glass   \n",
       "1     13501   ABC            Shot       True      shot glass   \n",
       "2     17225   Ace        Cocktail       True   martini glass   \n",
       "3     17837  Adam  Ordinary Drink       True  cocktail glass   \n",
       "4     13938  AT&T  Ordinary Drink       True  highball glass   \n",
       "\n",
       "                                         Ingredients  \\\n",
       "0  ['Gin', 'Grand Marnier', 'Lemon Juice', 'Grena...   \n",
       "1      ['Amaretto', 'Baileys irish cream', 'Cognac']   \n",
       "2  ['Gin', 'Grenadine', 'Heavy cream', 'Milk', 'E...   \n",
       "3           ['Dark rum', 'Lemon juice', 'Grenadine']   \n",
       "4            ['Absolut Vodka', 'Gin', 'Tonic water']   \n",
       "\n",
       "                                             Measure  \n",
       "0  ['1 3/4 shot ', '1 Shot ', '1/4 Shot', '1/8 Sh...  \n",
       "1                           ['1/3 ', '1/3 ', '1/3 ']  \n",
       "2  ['2 shots ', '1/2 shot ', '1/2 shot ', '1/2 sh...  \n",
       "3                       ['2 oz ', '1 oz ', '1 tsp ']  \n",
       "4                        ['1 oz ', '1 oz ', '4 oz ']  "
      ]
     },
     "execution_count": 3,
     "metadata": {},
     "output_type": "execute_result"
    }
   ],
   "source": [
    "# Display head of data frame. Feel free to delete\n",
    "temp_df.head()"
   ]
  },
  {
   "cell_type": "code",
   "execution_count": 4,
   "metadata": {},
   "outputs": [],
   "source": [
    "# List conversion function. Let me know if there are any issues\n",
    "def convert(s):\n",
    "    lst = []\n",
    "    temp = s.split(\", \")\n",
    "    \n",
    "    for x in temp:\n",
    "        lst.append(x.translate({ord(i): None for i in \"[']\"}))\n",
    "    \n",
    "    return lst"
   ]
  },
  {
   "cell_type": "code",
   "execution_count": 5,
   "metadata": {},
   "outputs": [],
   "source": [
    "# Necessary copy of data frame. The value count is just a test. Feel free to delete that line\n",
    "drink_df = temp_df.copy()"
   ]
  },
  {
   "cell_type": "code",
   "execution_count": 6,
   "metadata": {},
   "outputs": [],
   "source": [
    "# Creation of main data frame. All plots should use this data (i.e. drink_df)\n",
    "for i in range(0, len(drink_df)):\n",
    "    drink_df.at[i,'Ingredients'] = convert(temp_df.loc[i,'Ingredients'])"
   ]
  },
  {
   "cell_type": "code",
   "execution_count": 7,
   "metadata": {},
   "outputs": [],
   "source": [
    "# Creation of sorted list of tuples. Useful for most used ingredient\n",
    "# ing_count = {}\n",
    "# for i in range(0, len(drink_df)):\n",
    "#     for ing in drink_df.loc[i,'Ingredients']:\n",
    "#         if ing in ing_count:\n",
    "#             ing_count[ing] = ing_count[ing] + 1\n",
    "#         else:\n",
    "#             ing_count[ing] = 1\n",
    "            \n",
    "# #print(ing_count)\n",
    "# a=sorted(ing_count.items(), key=lambda x: x[1], reverse = True)\n",
    "# print(a)\n",
    "# #print(drink2_df['Ingredients'].to_string())"
   ]
  },
  {
   "cell_type": "code",
   "execution_count": 8,
   "metadata": {},
   "outputs": [
    {
     "data": {
      "text/html": [
       "<div>\n",
       "<style scoped>\n",
       "    .dataframe tbody tr th:only-of-type {\n",
       "        vertical-align: middle;\n",
       "    }\n",
       "\n",
       "    .dataframe tbody tr th {\n",
       "        vertical-align: top;\n",
       "    }\n",
       "\n",
       "    .dataframe thead th {\n",
       "        text-align: right;\n",
       "    }\n",
       "</style>\n",
       "<table border=\"1\" class=\"dataframe\">\n",
       "  <thead>\n",
       "    <tr style=\"text-align: right;\">\n",
       "      <th></th>\n",
       "      <th>Drink ID</th>\n",
       "      <th>Name</th>\n",
       "      <th>Category</th>\n",
       "      <th>Alcoholic</th>\n",
       "      <th>Glass</th>\n",
       "      <th>Ingredients</th>\n",
       "      <th>Measure</th>\n",
       "      <th>Ingredients Count</th>\n",
       "    </tr>\n",
       "  </thead>\n",
       "  <tbody>\n",
       "    <tr>\n",
       "      <th>0</th>\n",
       "      <td>17222</td>\n",
       "      <td>A1</td>\n",
       "      <td>Cocktail</td>\n",
       "      <td>True</td>\n",
       "      <td>cocktail glass</td>\n",
       "      <td>[Gin, Grand Marnier, Lemon Juice, Grenadine]</td>\n",
       "      <td>['1 3/4 shot ', '1 Shot ', '1/4 Shot', '1/8 Sh...</td>\n",
       "      <td>4</td>\n",
       "    </tr>\n",
       "    <tr>\n",
       "      <th>1</th>\n",
       "      <td>13501</td>\n",
       "      <td>ABC</td>\n",
       "      <td>Shot</td>\n",
       "      <td>True</td>\n",
       "      <td>shot glass</td>\n",
       "      <td>[Amaretto, Baileys irish cream, Cognac]</td>\n",
       "      <td>['1/3 ', '1/3 ', '1/3 ']</td>\n",
       "      <td>3</td>\n",
       "    </tr>\n",
       "    <tr>\n",
       "      <th>2</th>\n",
       "      <td>17225</td>\n",
       "      <td>Ace</td>\n",
       "      <td>Cocktail</td>\n",
       "      <td>True</td>\n",
       "      <td>martini glass</td>\n",
       "      <td>[Gin, Grenadine, Heavy cream, Milk, Egg White]</td>\n",
       "      <td>['2 shots ', '1/2 shot ', '1/2 shot ', '1/2 sh...</td>\n",
       "      <td>5</td>\n",
       "    </tr>\n",
       "    <tr>\n",
       "      <th>3</th>\n",
       "      <td>17837</td>\n",
       "      <td>Adam</td>\n",
       "      <td>Ordinary Drink</td>\n",
       "      <td>True</td>\n",
       "      <td>cocktail glass</td>\n",
       "      <td>[Dark rum, Lemon juice, Grenadine]</td>\n",
       "      <td>['2 oz ', '1 oz ', '1 tsp ']</td>\n",
       "      <td>3</td>\n",
       "    </tr>\n",
       "    <tr>\n",
       "      <th>4</th>\n",
       "      <td>13938</td>\n",
       "      <td>AT&amp;T</td>\n",
       "      <td>Ordinary Drink</td>\n",
       "      <td>True</td>\n",
       "      <td>highball glass</td>\n",
       "      <td>[Absolut Vodka, Gin, Tonic water]</td>\n",
       "      <td>['1 oz ', '1 oz ', '4 oz ']</td>\n",
       "      <td>3</td>\n",
       "    </tr>\n",
       "  </tbody>\n",
       "</table>\n",
       "</div>"
      ],
      "text/plain": [
       "   Drink ID  Name        Category  Alcoholic           Glass  \\\n",
       "0     17222    A1        Cocktail       True  cocktail glass   \n",
       "1     13501   ABC            Shot       True      shot glass   \n",
       "2     17225   Ace        Cocktail       True   martini glass   \n",
       "3     17837  Adam  Ordinary Drink       True  cocktail glass   \n",
       "4     13938  AT&T  Ordinary Drink       True  highball glass   \n",
       "\n",
       "                                      Ingredients  \\\n",
       "0    [Gin, Grand Marnier, Lemon Juice, Grenadine]   \n",
       "1         [Amaretto, Baileys irish cream, Cognac]   \n",
       "2  [Gin, Grenadine, Heavy cream, Milk, Egg White]   \n",
       "3              [Dark rum, Lemon juice, Grenadine]   \n",
       "4               [Absolut Vodka, Gin, Tonic water]   \n",
       "\n",
       "                                             Measure  Ingredients Count  \n",
       "0  ['1 3/4 shot ', '1 Shot ', '1/4 Shot', '1/8 Sh...                  4  \n",
       "1                           ['1/3 ', '1/3 ', '1/3 ']                  3  \n",
       "2  ['2 shots ', '1/2 shot ', '1/2 shot ', '1/2 sh...                  5  \n",
       "3                       ['2 oz ', '1 oz ', '1 tsp ']                  3  \n",
       "4                        ['1 oz ', '1 oz ', '4 oz ']                  3  "
      ]
     },
     "execution_count": 8,
     "metadata": {},
     "output_type": "execute_result"
    }
   ],
   "source": [
    "# Creation of new series. Feel free to delete if not needed.\n",
    "drink_df['Ingredients Count'] = 0\n",
    "for i in range(0, len(drink_df)):\n",
    "    drink_df.loc[i,'Ingredients Count'] = len(drink_df.loc[i,'Ingredients'])\n",
    "drink_df.head()"
   ]
  },
  {
   "cell_type": "code",
   "execution_count": 9,
   "metadata": {},
   "outputs": [],
   "source": [
    "# split list into Alcoholic and Non-alcoholic data frames. Sort lists on Ingredients Count and reset index\n",
    "drink_al_df = drink_df.loc[drink_df['Alcoholic'] == True].sort_values('Ingredients Count', ascending = False).reset_index(drop = True)\n",
    "drink_non_df = drink_df.loc[drink_df['Alcoholic'] != True].sort_values('Ingredients Count', ascending = False).reset_index(drop = True)"
   ]
  },
  {
   "cell_type": "code",
   "execution_count": 10,
   "metadata": {},
   "outputs": [
    {
     "name": "stdout",
     "output_type": "stream",
     "text": [
      "Total alcoholic cocktails = 355.\n"
     ]
    },
    {
     "data": {
      "text/html": [
       "<div>\n",
       "<style scoped>\n",
       "    .dataframe tbody tr th:only-of-type {\n",
       "        vertical-align: middle;\n",
       "    }\n",
       "\n",
       "    .dataframe tbody tr th {\n",
       "        vertical-align: top;\n",
       "    }\n",
       "\n",
       "    .dataframe thead th {\n",
       "        text-align: right;\n",
       "    }\n",
       "</style>\n",
       "<table border=\"1\" class=\"dataframe\">\n",
       "  <thead>\n",
       "    <tr style=\"text-align: right;\">\n",
       "      <th></th>\n",
       "      <th>Drink ID</th>\n",
       "      <th>Name</th>\n",
       "      <th>Category</th>\n",
       "      <th>Alcoholic</th>\n",
       "      <th>Glass</th>\n",
       "      <th>Ingredients</th>\n",
       "      <th>Measure</th>\n",
       "      <th>Ingredients Count</th>\n",
       "    </tr>\n",
       "  </thead>\n",
       "  <tbody>\n",
       "    <tr>\n",
       "      <th>0</th>\n",
       "      <td>12910</td>\n",
       "      <td>Egg Nog #4</td>\n",
       "      <td>Punch / Party Drink</td>\n",
       "      <td>True</td>\n",
       "      <td>punch bowl</td>\n",
       "      <td>[Egg yolk, Sugar, Milk, Light rum, Bourbon, Va...</td>\n",
       "      <td>['6 ', '1/4 cup ', '2 cups ', '1/2 cup ', '1/2...</td>\n",
       "      <td>11</td>\n",
       "    </tr>\n",
       "    <tr>\n",
       "      <th>1</th>\n",
       "      <td>13024</td>\n",
       "      <td>Sweet Sangria</td>\n",
       "      <td>Punch / Party Drink</td>\n",
       "      <td>True</td>\n",
       "      <td>pitcher</td>\n",
       "      <td>[Red wine, Sugar, Water, Apple, Orange, Lime, ...</td>\n",
       "      <td>['2 bottles ', '1 cup ', '2 cups hot ', '1 cup...</td>\n",
       "      <td>8</td>\n",
       "    </tr>\n",
       "    <tr>\n",
       "      <th>2</th>\n",
       "      <td>15395</td>\n",
       "      <td>1-900-FUK-MEUP</td>\n",
       "      <td>Shot</td>\n",
       "      <td>True</td>\n",
       "      <td>old-fashioned glass</td>\n",
       "      <td>[Absolut Kurant, Grand Marnier, Chambord raspb...</td>\n",
       "      <td>['1/2 oz ', '1/4 oz ', '1/4 oz ', '1/4 oz ', '...</td>\n",
       "      <td>8</td>\n",
       "    </tr>\n",
       "    <tr>\n",
       "      <th>3</th>\n",
       "      <td>12916</td>\n",
       "      <td>Egg Nog - Healthy</td>\n",
       "      <td>Punch / Party Drink</td>\n",
       "      <td>True</td>\n",
       "      <td>collins glass</td>\n",
       "      <td>[Egg, Sugar, Condensed milk, Milk, Vanilla ext...</td>\n",
       "      <td>['1/2 cup ', '3 tblsp ', '13 oz skimmed ', '3/...</td>\n",
       "      <td>7</td>\n",
       "    </tr>\n",
       "    <tr>\n",
       "      <th>4</th>\n",
       "      <td>178322</td>\n",
       "      <td>Spice 75</td>\n",
       "      <td>Cocktail</td>\n",
       "      <td>True</td>\n",
       "      <td>wine glass</td>\n",
       "      <td>[Sugar, Allspice, Rum, Lime Juice, Champagne, ...</td>\n",
       "      <td>['60 ml', '1 tblsp', '20 cl', '90 ml', '6 cl',...</td>\n",
       "      <td>7</td>\n",
       "    </tr>\n",
       "  </tbody>\n",
       "</table>\n",
       "</div>"
      ],
      "text/plain": [
       "   Drink ID               Name             Category  Alcoholic  \\\n",
       "0     12910         Egg Nog #4  Punch / Party Drink       True   \n",
       "1     13024      Sweet Sangria  Punch / Party Drink       True   \n",
       "2     15395     1-900-FUK-MEUP                 Shot       True   \n",
       "3     12916  Egg Nog - Healthy  Punch / Party Drink       True   \n",
       "4    178322           Spice 75             Cocktail       True   \n",
       "\n",
       "                 Glass                                        Ingredients  \\\n",
       "0           punch bowl  [Egg yolk, Sugar, Milk, Light rum, Bourbon, Va...   \n",
       "1              pitcher  [Red wine, Sugar, Water, Apple, Orange, Lime, ...   \n",
       "2  old-fashioned glass  [Absolut Kurant, Grand Marnier, Chambord raspb...   \n",
       "3        collins glass  [Egg, Sugar, Condensed milk, Milk, Vanilla ext...   \n",
       "4           wine glass  [Sugar, Allspice, Rum, Lime Juice, Champagne, ...   \n",
       "\n",
       "                                             Measure  Ingredients Count  \n",
       "0  ['6 ', '1/4 cup ', '2 cups ', '1/2 cup ', '1/2...                 11  \n",
       "1  ['2 bottles ', '1 cup ', '2 cups hot ', '1 cup...                  8  \n",
       "2  ['1/2 oz ', '1/4 oz ', '1/4 oz ', '1/4 oz ', '...                  8  \n",
       "3  ['1/2 cup ', '3 tblsp ', '13 oz skimmed ', '3/...                  7  \n",
       "4  ['60 ml', '1 tblsp', '20 cl', '90 ml', '6 cl',...                  7  "
      ]
     },
     "execution_count": 10,
     "metadata": {},
     "output_type": "execute_result"
    }
   ],
   "source": [
    "print(f\"Total alcoholic cocktails = {len(drink_al_df)}.\")\n",
    "drink_al_df.head()"
   ]
  },
  {
   "cell_type": "code",
   "execution_count": 11,
   "metadata": {},
   "outputs": [
    {
     "name": "stdout",
     "output_type": "stream",
     "text": [
      "Total non-alcoholic cocktails = 31.\n"
     ]
    },
    {
     "data": {
      "text/html": [
       "<div>\n",
       "<style scoped>\n",
       "    .dataframe tbody tr th:only-of-type {\n",
       "        vertical-align: middle;\n",
       "    }\n",
       "\n",
       "    .dataframe tbody tr th {\n",
       "        vertical-align: top;\n",
       "    }\n",
       "\n",
       "    .dataframe thead th {\n",
       "        text-align: right;\n",
       "    }\n",
       "</style>\n",
       "<table border=\"1\" class=\"dataframe\">\n",
       "  <thead>\n",
       "    <tr style=\"text-align: right;\">\n",
       "      <th></th>\n",
       "      <th>Drink ID</th>\n",
       "      <th>Name</th>\n",
       "      <th>Category</th>\n",
       "      <th>Alcoholic</th>\n",
       "      <th>Glass</th>\n",
       "      <th>Ingredients</th>\n",
       "      <th>Measure</th>\n",
       "      <th>Ingredients Count</th>\n",
       "    </tr>\n",
       "  </thead>\n",
       "  <tbody>\n",
       "    <tr>\n",
       "      <th>0</th>\n",
       "      <td>12774</td>\n",
       "      <td>Masala Chai</td>\n",
       "      <td>Coffee / Tea</td>\n",
       "      <td>False</td>\n",
       "      <td>coffee mug</td>\n",
       "      <td>[Water, Tea, Ginger, Cardamom, Cloves, Cinnamo...</td>\n",
       "      <td>['2 cups ', '3-4 tsp ', '1 chunk dried ', '3-4...</td>\n",
       "      <td>9</td>\n",
       "    </tr>\n",
       "    <tr>\n",
       "      <th>1</th>\n",
       "      <td>12670</td>\n",
       "      <td>Fruit Cooler</td>\n",
       "      <td>Other/Unknown</td>\n",
       "      <td>False</td>\n",
       "      <td>highball glass</td>\n",
       "      <td>[Apple juice, Strawberries, Sugar, Lemon, Appl...</td>\n",
       "      <td>['1 can frozen ', '1 cup ', '2 tblsp ', '1 ', ...</td>\n",
       "      <td>7</td>\n",
       "    </tr>\n",
       "    <tr>\n",
       "      <th>2</th>\n",
       "      <td>12782</td>\n",
       "      <td>Thai Coffee</td>\n",
       "      <td>Coffee / Tea</td>\n",
       "      <td>False</td>\n",
       "      <td>highball glass</td>\n",
       "      <td>[Coffee, Coriander, Cardamom, Sugar, Whipping ...</td>\n",
       "      <td>['6 tblsp ground', '1/4 tsp ', '4-5 whole gree...</td>\n",
       "      <td>6</td>\n",
       "    </tr>\n",
       "    <tr>\n",
       "      <th>3</th>\n",
       "      <td>12786</td>\n",
       "      <td>Thai Iced Tea</td>\n",
       "      <td>Coffee / Tea</td>\n",
       "      <td>False</td>\n",
       "      <td>highball glass</td>\n",
       "      <td>[Tea, Water, Condensed milk, Ice, Mint]</td>\n",
       "      <td>['1/4 cup Thai ', '1/2 cup boiling ', '2 tsp s...</td>\n",
       "      <td>5</td>\n",
       "    </tr>\n",
       "    <tr>\n",
       "      <th>4</th>\n",
       "      <td>12748</td>\n",
       "      <td>Orange Scented Hot Chocolate</td>\n",
       "      <td>Cocoa</td>\n",
       "      <td>False</td>\n",
       "      <td>coffee mug</td>\n",
       "      <td>[Milk, Chocolate, Orange peel, Espresso, Nutmeg]</td>\n",
       "      <td>['2 cups ', '4 oz chopped bittersweet or semi-...</td>\n",
       "      <td>5</td>\n",
       "    </tr>\n",
       "  </tbody>\n",
       "</table>\n",
       "</div>"
      ],
      "text/plain": [
       "   Drink ID                          Name       Category  Alcoholic  \\\n",
       "0     12774                   Masala Chai   Coffee / Tea      False   \n",
       "1     12670                  Fruit Cooler  Other/Unknown      False   \n",
       "2     12782                   Thai Coffee   Coffee / Tea      False   \n",
       "3     12786                 Thai Iced Tea   Coffee / Tea      False   \n",
       "4     12748  Orange Scented Hot Chocolate          Cocoa      False   \n",
       "\n",
       "            Glass                                        Ingredients  \\\n",
       "0      coffee mug  [Water, Tea, Ginger, Cardamom, Cloves, Cinnamo...   \n",
       "1  highball glass  [Apple juice, Strawberries, Sugar, Lemon, Appl...   \n",
       "2  highball glass  [Coffee, Coriander, Cardamom, Sugar, Whipping ...   \n",
       "3  highball glass            [Tea, Water, Condensed milk, Ice, Mint]   \n",
       "4      coffee mug   [Milk, Chocolate, Orange peel, Espresso, Nutmeg]   \n",
       "\n",
       "                                             Measure  Ingredients Count  \n",
       "0  ['2 cups ', '3-4 tsp ', '1 chunk dried ', '3-4...                  9  \n",
       "1  ['1 can frozen ', '1 cup ', '2 tblsp ', '1 ', ...                  7  \n",
       "2  ['6 tblsp ground', '1/4 tsp ', '4-5 whole gree...                  6  \n",
       "3  ['1/4 cup Thai ', '1/2 cup boiling ', '2 tsp s...                  5  \n",
       "4  ['2 cups ', '4 oz chopped bittersweet or semi-...                  5  "
      ]
     },
     "execution_count": 11,
     "metadata": {},
     "output_type": "execute_result"
    }
   ],
   "source": [
    "print(f\"Total non-alcoholic cocktails = {len(drink_non_df)}.\")\n",
    "drink_non_df.head()"
   ]
  },
  {
   "cell_type": "code",
   "execution_count": 19,
   "metadata": {},
   "outputs": [
    {
     "data": {
      "image/png": "[encoded data removed]",
      "text/plain": [
       "<Figure size 432x288 with 1 Axes>"
      ]
     },
     "metadata": {
      "needs_background": "light"
     },
     "output_type": "display_data"
    }
   ],
   "source": [
    "drink_al_df.loc[0:9,:].plot(\"Name\",\"Ingredients Count\", kind = 'bar', legend = False, title = \"Number of Ingredients in Top 10 Alcoholic Cocktails\")\n",
    "plt.xticks(rotation = 45, ha = 'right')\n",
    "plt.xlabel(\"Cocktail Name\")\n",
    "plt.ylabel(\"Ingredients Count\")\n",
    "plt.savefig('output_data/Ingredients_Count_Alcohol.png', bbox_inches=\"tight\")\n",
    "plt.show()"
   ]
  },
  {
   "cell_type": "code",
   "execution_count": 18,
   "metadata": {},
   "outputs": [
    {
     "data": {
      "image/png": "[encoded data removed]",
      "text/plain": [
       "<Figure size 432x288 with 1 Axes>"
      ]
     },
     "metadata": {
      "needs_background": "light"
     },
     "output_type": "display_data"
    }
   ],
   "source": [
    "drink_non_df.loc[0:9,:].plot(\"Name\",\"Ingredients Count\", kind = 'bar', legend = False, title = \"Number of Ingredients in Top 10 Non-Alcoholic Cocktails\")\n",
    "plt.xticks(rotation = 45, ha = 'right')\n",
    "plt.xlabel(\"Cocktail Name\")\n",
    "plt.ylabel(\"Ingredients Count\")\n",
    "plt.savefig('output_data/Ingredients_Count_NonAlcohol.png', bbox_inches=\"tight\")\n",
    "plt.show()"
   ]
  },
  {
   "cell_type": "code",
   "execution_count": 14,
   "metadata": {},
   "outputs": [
    {
     "data": {
      "text/html": [
       "<div>\n",
       "<style scoped>\n",
       "    .dataframe tbody tr th:only-of-type {\n",
       "        vertical-align: middle;\n",
       "    }\n",
       "\n",
       "    .dataframe tbody tr th {\n",
       "        vertical-align: top;\n",
       "    }\n",
       "\n",
       "    .dataframe thead th {\n",
       "        text-align: right;\n",
       "    }\n",
       "</style>\n",
       "<table border=\"1\" class=\"dataframe\">\n",
       "  <thead>\n",
       "    <tr style=\"text-align: right;\">\n",
       "      <th></th>\n",
       "      <th>Alcoholic</th>\n",
       "      <th>Ingredients Count</th>\n",
       "    </tr>\n",
       "  </thead>\n",
       "  <tbody>\n",
       "    <tr>\n",
       "      <th>0</th>\n",
       "      <td>Alcoholic</td>\n",
       "      <td>11</td>\n",
       "    </tr>\n",
       "    <tr>\n",
       "      <th>1</th>\n",
       "      <td>Alcoholic</td>\n",
       "      <td>8</td>\n",
       "    </tr>\n",
       "    <tr>\n",
       "      <th>2</th>\n",
       "      <td>Alcoholic</td>\n",
       "      <td>8</td>\n",
       "    </tr>\n",
       "    <tr>\n",
       "      <th>3</th>\n",
       "      <td>Alcoholic</td>\n",
       "      <td>7</td>\n",
       "    </tr>\n",
       "    <tr>\n",
       "      <th>4</th>\n",
       "      <td>Alcoholic</td>\n",
       "      <td>7</td>\n",
       "    </tr>\n",
       "    <tr>\n",
       "      <th>...</th>\n",
       "      <td>...</td>\n",
       "      <td>...</td>\n",
       "    </tr>\n",
       "    <tr>\n",
       "      <th>381</th>\n",
       "      <td>Non-alcoholic</td>\n",
       "      <td>3</td>\n",
       "    </tr>\n",
       "    <tr>\n",
       "      <th>382</th>\n",
       "      <td>Non-alcoholic</td>\n",
       "      <td>3</td>\n",
       "    </tr>\n",
       "    <tr>\n",
       "      <th>383</th>\n",
       "      <td>Non-alcoholic</td>\n",
       "      <td>2</td>\n",
       "    </tr>\n",
       "    <tr>\n",
       "      <th>384</th>\n",
       "      <td>Non-alcoholic</td>\n",
       "      <td>2</td>\n",
       "    </tr>\n",
       "    <tr>\n",
       "      <th>385</th>\n",
       "      <td>Non-alcoholic</td>\n",
       "      <td>2</td>\n",
       "    </tr>\n",
       "  </tbody>\n",
       "</table>\n",
       "<p>386 rows × 2 columns</p>\n",
       "</div>"
      ],
      "text/plain": [
       "         Alcoholic  Ingredients Count\n",
       "0        Alcoholic                 11\n",
       "1        Alcoholic                  8\n",
       "2        Alcoholic                  8\n",
       "3        Alcoholic                  7\n",
       "4        Alcoholic                  7\n",
       "..             ...                ...\n",
       "381  Non-alcoholic                  3\n",
       "382  Non-alcoholic                  3\n",
       "383  Non-alcoholic                  2\n",
       "384  Non-alcoholic                  2\n",
       "385  Non-alcoholic                  2\n",
       "\n",
       "[386 rows x 2 columns]"
      ]
     },
     "execution_count": 14,
     "metadata": {},
     "output_type": "execute_result"
    }
   ],
   "source": [
    "# Create dataframe to do statistics on\n",
    "\n",
    "complex_df = drink_al_df[[\"Alcoholic\", \"Ingredients Count\"]]\n",
    "complex_df = complex_df.append(drink_non_df[[\"Alcoholic\", \"Ingredients Count\"]], ignore_index=True)\n",
    "complex_df.replace({True: \"Alcoholic\", False: \"Non-alcoholic\"}, inplace=True)\n",
    "complex_df"
   ]
  },
  {
   "cell_type": "code",
   "execution_count": 24,
   "metadata": {},
   "outputs": [
    {
     "data": {
      "image/png": "[encoded data removed]",
      "text/plain": [
       "<Figure size 720x360 with 1 Axes>"
      ]
     },
     "metadata": {
      "needs_background": "light"
     },
     "output_type": "display_data"
    }
   ],
   "source": [
    "# Create the boxplot to see any statistically significant difference\n",
    "\n",
    "complex_df.boxplot(\"Ingredients Count\", by=\"Alcoholic\", figsize=(10, 5))\n",
    "plt.xlabel(\"\")\n",
    "plt.suptitle('')\n",
    "plt.title(\"Statistical Means of Ingredients Count\")\n",
    "plt.savefig('output_data/Box_Plot_AverageIng.png', bbox_inches=\"tight\")\n",
    "plt.show()"
   ]
  },
  {
   "cell_type": "code",
   "execution_count": 16,
   "metadata": {},
   "outputs": [
    {
     "data": {
      "text/plain": [
       "F_onewayResult(statistic=0.3399890998800719, pvalue=0.560177780667217)"
      ]
     },
     "execution_count": 16,
     "metadata": {},
     "output_type": "execute_result"
    }
   ],
   "source": [
    "# Extract groups and perform ANOVA\n",
    "group1 = complex_df[complex_df[\"Alcoholic\"] == \"Alcoholic\"][\"Ingredients Count\"]\n",
    "group2 = complex_df[complex_df[\"Alcoholic\"] == \"Non-alcoholic\"][\"Ingredients Count\"]\n",
    "\n",
    "stats.f_oneway(group1, group2)"
   ]
  },
  {
   "cell_type": "code",
   "execution_count": 17,
   "metadata": {},
   "outputs": [
    {
     "data": {
      "image/png": "[encoded data removed]",
      "text/plain": [
       "<Figure size 720x360 with 1 Axes>"
      ]
     },
     "metadata": {
      "needs_background": "light"
     },
     "output_type": "display_data"
    },
    {
     "data": {
      "text/plain": [
       "F_onewayResult(statistic=10.97560975609756, pvalue=0.003869121134391894)"
      ]
     },
     "execution_count": 17,
     "metadata": {},
     "output_type": "execute_result"
    }
   ],
   "source": [
    "# Restrict to the top 10 from both lists\n",
    "complex2_df = drink_al_df.loc[0:9,:][[\"Alcoholic\", \"Ingredients Count\"]]\n",
    "complex2_df = complex2_df.append(drink_non_df.loc[0:9,:][[\"Alcoholic\", \"Ingredients Count\"]], ignore_index=True)\n",
    "complex2_df.replace({True: \"Alcoholic\", False: \"Non-alcoholic\"}, inplace=True)\n",
    "\n",
    "complex2_df.boxplot(\"Ingredients Count\", by=\"Alcoholic\", figsize=(10, 5))\n",
    "plt.suptitle('')\n",
    "plt.title(\"Statistical Means of Ingredients Count\")\n",
    "plt.savefig('output_data/Box_Plot_AverageIngTop10.png', bbox_inches=\"tight\")\n",
    "plt.show()\n",
    "\n",
    "group1 = complex2_df[complex2_df[\"Alcoholic\"] == \"Alcoholic\"][\"Ingredients Count\"]\n",
    "group2 = complex2_df[complex2_df[\"Alcoholic\"] == \"Non-alcoholic\"][\"Ingredients Count\"]\n",
    "\n",
    "stats.f_oneway(group1, group2)"
   ]
  },
  {
   "cell_type": "code",
   "execution_count": null,
   "metadata": {},
   "outputs": [],
   "source": []
  }
 ],
 "metadata": {
  "kernelspec": {
   "display_name": "Python 3",
   "language": "python",
   "name": "python3"
  },
  "language_info": {
   "codemirror_mode": {
    "name": "ipython",
    "version": 3
   },
   "file_extension": ".py",
   "mimetype": "text/x-python",
   "name": "python",
   "nbconvert_exporter": "python",
   "pygments_lexer": "ipython3",
   "version": "3.7.6"
  }
 },
 "nbformat": 4,
 "nbformat_minor": 4
}
