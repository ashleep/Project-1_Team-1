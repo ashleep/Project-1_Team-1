{
 "cells": [
  {
   "cell_type": "code",
   "execution_count": 1,
   "metadata": {},
   "outputs": [],
   "source": [
    "#!pip install matplotlib\n",
    "#!pip install pandas\n",
    "#!pip install requests\n",
    "#!pip install gmaps\n",
    "\n",
    "\n",
    "# Dependencies and Setup\n",
    "import matplotlib.pyplot as plt\n",
    "import pandas as pd\n",
    "import numpy as np\n",
    "import requests\n",
    "import gmaps\n",
    "import os\n",
    "import json\n",
    "\n",
    "# Import API key\n",
    "from api_keys import cocktail_api\n",
    "\n",
    "# Output File (CSV)\n",
    "output_data_file = \"output_data/drinks.csv\"\n",
    "\n"
   ]
  },
  {
   "cell_type": "code",
   "execution_count": 11,
   "metadata": {
    "scrolled": true
   },
   "outputs": [
    {
     "name": "stdout",
     "output_type": "stream",
     "text": [
      "No drinks staring with u found.\n",
      "No drinks staring with x found.\n",
      "No drinks staring with 8 found.\n",
      "No drinks staring with 0 found.\n"
     ]
    }
   ],
   "source": [
    "base_url = \"https://www.thecocktaildb.com/api/json/v1/1/search.php?f=\"\n",
    "letter_list = ['a', 'b', 'c', 'd', 'e', 'f', 'g', 'h', 'i', 'j', 'k', 'l', 'm', 'n', 'o', 'p', 'q', 'r', 's', 't', 'u', 'v', 'w', 'x', 'y', 'z', \"1\", \"2\", \"3\", \"4\", \"5\", \"6\", \"7\", \"8\", \"9\", \"0\", \"'\"]\n",
    "\n",
    "#initilize lists\n",
    "drink_id = []\n",
    "drink_name = []\n",
    "drink_category = []\n",
    "drink_alcohol = []\n",
    "drink_glass = []\n",
    "drink_ingredients=[]\n",
    "drink_measure = []\n",
    "\n",
    "for letter in letter_list:\n",
    "    #create request and save data into json\n",
    "    drink_response = requests.get(base_url+letter)\n",
    "    drink_data = drink_response.json()\n",
    "    drink_data = drink_data[\"drinks\"]\n",
    "    \n",
    "    try:\n",
    "        #get index for first through last list item\n",
    "        #use try and except to filter out letter/numbers with no drinks listed\n",
    "        length = len(drink_data)-1\n",
    "\n",
    "        for element in range(0,length):\n",
    "\n",
    "            #get drink ID and add to list\n",
    "            drink_id.append(drink_data[element][\"idDrink\"])         \n",
    "\n",
    "            #get drink name and add to list\n",
    "            drink_name.append(drink_data[element][\"strDrink\"])\n",
    "            #print list of drinks\n",
    "            #print(f\"{drink_name[-1]}\")\n",
    "\n",
    "            #get drink category and add to list\n",
    "            drink_category.append(drink_data[element][\"strCategory\"])\n",
    "\n",
    "\n",
    "            #get data on if its alcoholic or not\n",
    "            TF_alcohol = drink_data[element][\"strAlcoholic\"]\n",
    "\n",
    "            if TF_alcohol != \"Non alcoholic\":\n",
    "                drink_alcohol.append(True)\n",
    "\n",
    "            else:\n",
    "                drink_alcohol.append(False)\n",
    "\n",
    "            #get glass type and add to list\n",
    "            drink_glass.append(drink_data[element][\"strGlass\"])\n",
    "\n",
    "\n",
    "            #get ingredients from list\n",
    "            i=1\n",
    "            ingredient_list = []\n",
    "            ingredient = \"\"\n",
    "            while i<=15:\n",
    "                ingredient = drink_data[element][f\"strIngredient{i}\"]\n",
    "\n",
    "                if ingredient == None:\n",
    "                    i+=1\n",
    "                else:\n",
    "                    ingredient_list.append(drink_data[element][f\"strIngredient{i}\"])\n",
    "                    i+=1\n",
    "\n",
    "            drink_ingredients.append(ingredient_list)\n",
    "\n",
    "\n",
    "            #get measurments from data\n",
    "            i=1\n",
    "            measure_list = []\n",
    "            measure = \"\"\n",
    "            while i<=len(ingredient_list):\n",
    "                measure = drink_data[element][f\"strMeasure{i}\"]     \n",
    "                measure_list.append(drink_data[element][f\"strMeasure{i}\"])\n",
    "                i+=1\n",
    "\n",
    "            drink_measure.append(measure_list)\n",
    "            \n",
    "            \n",
    "    except:\n",
    "        #print message if there is no drink found starting with that letter\n",
    "        print(f\"No drinks staring with {letter} found.\")\n",
    "\n",
    "\n",
    "#create data frame with info from above lists\n",
    "drinks_df = pd.DataFrame({\n",
    "    \"Drink ID\":drink_id, \n",
    "    \"Name\":drink_name,\n",
    "    \"Category\":drink_category,\n",
    "    \"Alcoholic\":drink_alcohol,\n",
    "    \"Glass\":drink_glass,\n",
    "    \"Ingredients\":drink_ingredients,\n",
    "    \"Measure\":drink_measure\n",
    "})\n"
   ]
  },
  {
   "cell_type": "code",
   "execution_count": 8,
   "metadata": {},
   "outputs": [],
   "source": [
    "#Clean glass data\n",
    "drinks_df[\"Glass\"] = drinks_df[\"Glass\"].str.lower()\n",
    "drinks_df[\"Glass\"] = drinks_df[\"Glass\"].replace([\"margarita/coupette glass\",\"white wine glass\", \"whiskey sour glass\"], [\"margarita glass\",\"wine glass\", \"old-fashioned glass\"])\n"
   ]
  },
  {
   "cell_type": "code",
   "execution_count": 12,
   "metadata": {},
   "outputs": [],
   "source": [
    "#Clean ingredients data\n"
   ]
  },
  {
   "cell_type": "code",
   "execution_count": 13,
   "metadata": {},
   "outputs": [],
   "source": [
    "#write data to csv\n",
    "drinks_df.to_csv(output_data_file, index=False)   \n"
   ]
  },
  {
   "cell_type": "code",
   "execution_count": null,
   "metadata": {},
   "outputs": [],
   "source": []
  }
 ],
 "metadata": {
  "kernelspec": {
   "display_name": "Python 3",
   "language": "python",
   "name": "python3"
  },
  "language_info": {
   "codemirror_mode": {
    "name": "ipython",
    "version": 3
   },
   "file_extension": ".py",
   "mimetype": "text/x-python",
   "name": "python",
   "nbconvert_exporter": "python",
   "pygments_lexer": "ipython3",
   "version": "3.8.2"
  },
  "latex_envs": {
   "LaTeX_envs_menu_present": true,
   "autoclose": false,
   "autocomplete": true,
   "bibliofile": "biblio.bib",
   "cite_by": "apalike",
   "current_citInitial": 1,
   "eqLabelWithNumbers": true,
   "eqNumInitial": 1,
   "hotkeys": {
    "equation": "Ctrl-E",
    "itemize": "Ctrl-I"
   },
   "labels_anchors": false,
   "latex_user_defs": false,
   "report_style_numbering": false,
   "user_envs_cfg": false
  }
 },
 "nbformat": 4,
 "nbformat_minor": 2
}
