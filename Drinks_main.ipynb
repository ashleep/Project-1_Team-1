{
 "cells": [
  {
   "cell_type": "code",
   "execution_count": 26,
   "metadata": {},
   "outputs": [],
   "source": [
    "# Dependencies and Setup\n",
    "import matplotlib.pyplot as plt\n",
    "import pandas as pd\n",
    "import numpy as np\n",
    "import requests\n",
    "import gmaps\n",
    "import os\n",
    "import json\n",
    "import scipy.stats as stats"
   ]
  },
  {
   "cell_type": "code",
   "execution_count": 2,
   "metadata": {},
   "outputs": [],
   "source": [
    "# Tempory data frame to pull in the drinks.csv file\n",
    "temp_df = pd.read_csv(\"output_data/drinks.csv\")"
   ]
  },
  {
   "cell_type": "code",
   "execution_count": 3,
   "metadata": {},
   "outputs": [
    {
     "data": {
      "text/html": [
       "<div>\n",
       "<style scoped>\n",
       "    .dataframe tbody tr th:only-of-type {\n",
       "        vertical-align: middle;\n",
       "    }\n",
       "\n",
       "    .dataframe tbody tr th {\n",
       "        vertical-align: top;\n",
       "    }\n",
       "\n",
       "    .dataframe thead th {\n",
       "        text-align: right;\n",
       "    }\n",
       "</style>\n",
       "<table border=\"1\" class=\"dataframe\">\n",
       "  <thead>\n",
       "    <tr style=\"text-align: right;\">\n",
       "      <th></th>\n",
       "      <th>Drink ID</th>\n",
       "      <th>Name</th>\n",
       "      <th>Category</th>\n",
       "      <th>Alcoholic</th>\n",
       "      <th>Glass</th>\n",
       "      <th>Ingredients</th>\n",
       "      <th>Measure</th>\n",
       "    </tr>\n",
       "  </thead>\n",
       "  <tbody>\n",
       "    <tr>\n",
       "      <th>0</th>\n",
       "      <td>15567</td>\n",
       "      <td>Adam Sunrise</td>\n",
       "      <td>Ordinary Drink</td>\n",
       "      <td>True</td>\n",
       "      <td>Collins Glass</td>\n",
       "      <td>['Vodka', 'Lemonade', 'Water', 'Sugar']</td>\n",
       "      <td>['1/2 ', '1/2 can ', '1/2 ', '10 tsp ']</td>\n",
       "    </tr>\n",
       "    <tr>\n",
       "      <th>1</th>\n",
       "      <td>17141</td>\n",
       "      <td>Smut</td>\n",
       "      <td>Punch / Party Drink</td>\n",
       "      <td>True</td>\n",
       "      <td>Beer mug</td>\n",
       "      <td>['Red wine', 'Peach schnapps', 'Pepsi Cola', '...</td>\n",
       "      <td>['1/3 part ', '1 shot ', '1/3 part ', '1/3 par...</td>\n",
       "    </tr>\n",
       "    <tr>\n",
       "      <th>2</th>\n",
       "      <td>15200</td>\n",
       "      <td>A Day at the Beach</td>\n",
       "      <td>Ordinary Drink</td>\n",
       "      <td>True</td>\n",
       "      <td>Highball glass</td>\n",
       "      <td>['Coconut rum', 'Amaretto', 'Orange juice', 'G...</td>\n",
       "      <td>['1 oz ', '1/2 oz ', '4 oz ', '1/2 oz ']</td>\n",
       "    </tr>\n",
       "    <tr>\n",
       "      <th>3</th>\n",
       "      <td>15743</td>\n",
       "      <td>Fuzzy Asshole</td>\n",
       "      <td>Coffee / Tea</td>\n",
       "      <td>True</td>\n",
       "      <td>Coffee mug</td>\n",
       "      <td>['Coffee', 'Peach schnapps']</td>\n",
       "      <td>['1/2 ', '1/2 ']</td>\n",
       "    </tr>\n",
       "    <tr>\n",
       "      <th>4</th>\n",
       "      <td>17168</td>\n",
       "      <td>Amaretto Sunset</td>\n",
       "      <td>Ordinary Drink</td>\n",
       "      <td>True</td>\n",
       "      <td>Collins Glass</td>\n",
       "      <td>['Triple sec', 'Amaretto', 'Cider', 'Ice']</td>\n",
       "      <td>['1/2 jigger ', '3 shots ', '1/2 cup ', 'Add 1...</td>\n",
       "    </tr>\n",
       "  </tbody>\n",
       "</table>\n",
       "</div>"
      ],
      "text/plain": [
       "   Drink ID                Name             Category  Alcoholic  \\\n",
       "0     15567        Adam Sunrise       Ordinary Drink       True   \n",
       "1     17141                Smut  Punch / Party Drink       True   \n",
       "2     15200  A Day at the Beach       Ordinary Drink       True   \n",
       "3     15743       Fuzzy Asshole         Coffee / Tea       True   \n",
       "4     17168     Amaretto Sunset       Ordinary Drink       True   \n",
       "\n",
       "            Glass                                        Ingredients  \\\n",
       "0   Collins Glass            ['Vodka', 'Lemonade', 'Water', 'Sugar']   \n",
       "1        Beer mug  ['Red wine', 'Peach schnapps', 'Pepsi Cola', '...   \n",
       "2  Highball glass  ['Coconut rum', 'Amaretto', 'Orange juice', 'G...   \n",
       "3      Coffee mug                       ['Coffee', 'Peach schnapps']   \n",
       "4   Collins Glass         ['Triple sec', 'Amaretto', 'Cider', 'Ice']   \n",
       "\n",
       "                                             Measure  \n",
       "0            ['1/2 ', '1/2 can ', '1/2 ', '10 tsp ']  \n",
       "1  ['1/3 part ', '1 shot ', '1/3 part ', '1/3 par...  \n",
       "2           ['1 oz ', '1/2 oz ', '4 oz ', '1/2 oz ']  \n",
       "3                                   ['1/2 ', '1/2 ']  \n",
       "4  ['1/2 jigger ', '3 shots ', '1/2 cup ', 'Add 1...  "
      ]
     },
     "execution_count": 3,
     "metadata": {},
     "output_type": "execute_result"
    }
   ],
   "source": [
    "# Display head of data frame. Feel free to delete\n",
    "temp_df.head()"
   ]
  },
  {
   "cell_type": "code",
   "execution_count": 4,
   "metadata": {},
   "outputs": [],
   "source": [
    "# List conversion function. Let me know if there are any issues\n",
    "def convert(s):\n",
    "    lst = []\n",
    "    temp = str(s).split(\", \")\n",
    "    \n",
    "    for x in temp:\n",
    "        lst.append(x.translate({ord(i): None for i in \"[']\"}))\n",
    "    \n",
    "    return lst"
   ]
  },
  {
   "cell_type": "markdown",
   "metadata": {},
   "source": [
    "# Question One Data Analysis"
   ]
  },
  {
   "cell_type": "code",
   "execution_count": 5,
   "metadata": {},
   "outputs": [
    {
     "data": {
      "text/html": [
       "<div>\n",
       "<style scoped>\n",
       "    .dataframe tbody tr th:only-of-type {\n",
       "        vertical-align: middle;\n",
       "    }\n",
       "\n",
       "    .dataframe tbody tr th {\n",
       "        vertical-align: top;\n",
       "    }\n",
       "\n",
       "    .dataframe thead th {\n",
       "        text-align: right;\n",
       "    }\n",
       "</style>\n",
       "<table border=\"1\" class=\"dataframe\">\n",
       "  <thead>\n",
       "    <tr style=\"text-align: right;\">\n",
       "      <th></th>\n",
       "      <th>Glass</th>\n",
       "      <th>Count</th>\n",
       "    </tr>\n",
       "  </thead>\n",
       "  <tbody>\n",
       "    <tr>\n",
       "      <th>0</th>\n",
       "      <td>cocktail glass</td>\n",
       "      <td>93</td>\n",
       "    </tr>\n",
       "    <tr>\n",
       "      <th>1</th>\n",
       "      <td>highball glass</td>\n",
       "      <td>77</td>\n",
       "    </tr>\n",
       "    <tr>\n",
       "      <th>2</th>\n",
       "      <td>old-fashioned glass</td>\n",
       "      <td>55</td>\n",
       "    </tr>\n",
       "    <tr>\n",
       "      <th>3</th>\n",
       "      <td>collins glass</td>\n",
       "      <td>53</td>\n",
       "    </tr>\n",
       "    <tr>\n",
       "      <th>4</th>\n",
       "      <td>shot glass</td>\n",
       "      <td>26</td>\n",
       "    </tr>\n",
       "  </tbody>\n",
       "</table>\n",
       "</div>"
      ],
      "text/plain": [
       "                 Glass  Count\n",
       "0       cocktail glass     93\n",
       "1       highball glass     77\n",
       "2  old-fashioned glass     55\n",
       "3        collins glass     53\n",
       "4           shot glass     26"
      ]
     },
     "execution_count": 5,
     "metadata": {},
     "output_type": "execute_result"
    }
   ],
   "source": [
    "#-------DATA MANIPULATION----------\n",
    "\n",
    "# Necessary copy of data frame. The value count is just a test. Feel free to delete that line\n",
    "glasses_df = temp_df.copy()\n",
    "glasses_df = glasses_df['Glass'].value_counts()\n",
    "glasses_df = glasses_df.reset_index()\n",
    "glasses_df = glasses_df.rename(columns={\"Glass\":\"Count\", \"index\":\"Glass\"})\n",
    "\n",
    "glasses_df.head()"
   ]
  },
  {
   "cell_type": "code",
   "execution_count": 6,
   "metadata": {},
   "outputs": [
    {
     "data": {
      "text/html": [
       "<div>\n",
       "<style scoped>\n",
       "    .dataframe tbody tr th:only-of-type {\n",
       "        vertical-align: middle;\n",
       "    }\n",
       "\n",
       "    .dataframe tbody tr th {\n",
       "        vertical-align: top;\n",
       "    }\n",
       "\n",
       "    .dataframe thead th {\n",
       "        text-align: right;\n",
       "    }\n",
       "</style>\n",
       "<table border=\"1\" class=\"dataframe\">\n",
       "  <thead>\n",
       "    <tr style=\"text-align: right;\">\n",
       "      <th></th>\n",
       "      <th>Glass</th>\n",
       "      <th>Count</th>\n",
       "    </tr>\n",
       "  </thead>\n",
       "  <tbody>\n",
       "    <tr>\n",
       "      <th>0</th>\n",
       "      <td>cocktail glass</td>\n",
       "      <td>93</td>\n",
       "    </tr>\n",
       "    <tr>\n",
       "      <th>1</th>\n",
       "      <td>highball glass</td>\n",
       "      <td>77</td>\n",
       "    </tr>\n",
       "    <tr>\n",
       "      <th>2</th>\n",
       "      <td>old-fashioned glass</td>\n",
       "      <td>55</td>\n",
       "    </tr>\n",
       "    <tr>\n",
       "      <th>3</th>\n",
       "      <td>collins glass</td>\n",
       "      <td>53</td>\n",
       "    </tr>\n",
       "    <tr>\n",
       "      <th>4</th>\n",
       "      <td>shot glass</td>\n",
       "      <td>26</td>\n",
       "    </tr>\n",
       "  </tbody>\n",
       "</table>\n",
       "</div>"
      ],
      "text/plain": [
       "                 Glass  Count\n",
       "0       cocktail glass     93\n",
       "1       highball glass     77\n",
       "2  old-fashioned glass     55\n",
       "3        collins glass     53\n",
       "4           shot glass     26"
      ]
     },
     "execution_count": 6,
     "metadata": {},
     "output_type": "execute_result"
    }
   ],
   "source": [
    "#-------DATA ANALYSIS-----------------\n",
    "\n",
    "#define cuttoff value\n",
    "cutoff_value = 4\n",
    "\n",
    "#glasses with counts less than cutoff value to be grouped in miscellaneous\n",
    "miscellaneous = 0 \n",
    "for i in range(len(glasses_df)):\n",
    "    count = glasses_df.loc[i,\"Count\"]\n",
    "    if glasses_df.loc[i,\"Count\"] <= cutoff_value:\n",
    "        miscellaneous +=count\n",
    "        \n",
    "        \n",
    "#drop glasses with less than cutoff value\n",
    "glasses_df = glasses_df[glasses_df.Count > cutoff_value]\n",
    "\n",
    "#append DF with item Miscellaneous \n",
    "glasses_df = glasses_df.append({\"Glass\":\"miscellaneous\", \"Count\":miscellaneous}, ignore_index = True)\n",
    "\n",
    "glasses_df.head()"
   ]
  },
  {
   "cell_type": "code",
   "execution_count": 7,
   "metadata": {},
   "outputs": [
    {
     "data": {
      "image/png": "[encoded data removed]",
      "text/plain": [
       "<Figure size 432x288 with 1 Axes>"
      ]
     },
     "metadata": {
      "needs_background": "light"
     },
     "output_type": "display_data"
    }
   ],
   "source": [
    "#------DATA DISPLAY-------------\n",
    "\n",
    "plt.bar(glasses_df.Glass, glasses_df.Count, color = \"navy\")\n",
    "plt.xticks(glasses_df.Glass, rotation='vertical')\n",
    "plt.title(\"Distribution of Drinks by Glass\")\n",
    "plt.ylabel(\"Number of Drinks\")\n",
    "plt.savefig('output_data/Glasses_Distribution.png', bbox_inches=\"tight\")\n",
    "\n",
    "plt.show()"
   ]
  },
  {
   "cell_type": "code",
   "execution_count": 8,
   "metadata": {},
   "outputs": [
    {
     "data": {
      "text/html": [
       "<div>\n",
       "<style scoped>\n",
       "    .dataframe tbody tr th:only-of-type {\n",
       "        vertical-align: middle;\n",
       "    }\n",
       "\n",
       "    .dataframe tbody tr th {\n",
       "        vertical-align: top;\n",
       "    }\n",
       "\n",
       "    .dataframe thead th {\n",
       "        text-align: right;\n",
       "    }\n",
       "</style>\n",
       "<table border=\"1\" class=\"dataframe\">\n",
       "  <thead>\n",
       "    <tr style=\"text-align: right;\">\n",
       "      <th></th>\n",
       "      <th>Glass</th>\n",
       "      <th>Count</th>\n",
       "    </tr>\n",
       "  </thead>\n",
       "  <tbody>\n",
       "    <tr>\n",
       "      <th>0</th>\n",
       "      <td>cocktail glass</td>\n",
       "      <td>93</td>\n",
       "    </tr>\n",
       "    <tr>\n",
       "      <th>1</th>\n",
       "      <td>highball glass</td>\n",
       "      <td>77</td>\n",
       "    </tr>\n",
       "    <tr>\n",
       "      <th>2</th>\n",
       "      <td>old-fashioned glass</td>\n",
       "      <td>55</td>\n",
       "    </tr>\n",
       "    <tr>\n",
       "      <th>3</th>\n",
       "      <td>collins glass</td>\n",
       "      <td>53</td>\n",
       "    </tr>\n",
       "    <tr>\n",
       "      <th>4</th>\n",
       "      <td>shot glass</td>\n",
       "      <td>26</td>\n",
       "    </tr>\n",
       "  </tbody>\n",
       "</table>\n",
       "</div>"
      ],
      "text/plain": [
       "                 Glass  Count\n",
       "0       cocktail glass     93\n",
       "1       highball glass     77\n",
       "2  old-fashioned glass     55\n",
       "3        collins glass     53\n",
       "4           shot glass     26"
      ]
     },
     "execution_count": 8,
     "metadata": {},
     "output_type": "execute_result"
    }
   ],
   "source": [
    "glasses_top5_df = glasses_df.copy()\n",
    "glasses_top5_df = glasses_top5_df.head(5)\n",
    "glasses_top5_df"
   ]
  },
  {
   "cell_type": "code",
   "execution_count": 9,
   "metadata": {},
   "outputs": [
    {
     "data": {
      "image/png": "[encoded data removed]",
      "text/plain": [
       "<Figure size 432x288 with 1 Axes>"
      ]
     },
     "metadata": {},
     "output_type": "display_data"
    }
   ],
   "source": [
    "plt.pie(glasses_top5_df.Count, labels = glasses_top5_df.Glass, startangle =-20, colors=[\"navy\", \"firebrick\", \"darkgreen\", \"cadetblue\", \"darkorange\"])\n",
    "plt.axis('equal')  \n",
    "\n",
    "plt.title(\"Top 5 Drink Glass Proportion of Total\")\n",
    "plt.savefig('output_data/Glasses_Top5_Distribution.png')\n",
    "\n",
    "plt.show()"
   ]
  },
  {
   "cell_type": "code",
   "execution_count": 10,
   "metadata": {},
   "outputs": [],
   "source": [
    "# Creation of main data frame. All plots should use this data (i.e. drink_df)\n",
    "drink_df = temp_df.copy()\n",
    "for i in range(0, len(drink_df)):\n",
    "    drink_df.at[i,'Ingredients'] = convert(temp_df.loc[i,'Ingredients'])"
   ]
  },
  {
   "cell_type": "markdown",
   "metadata": {},
   "source": [
    "# Question Two Data Analysis"
   ]
  },
  {
   "cell_type": "markdown",
   "metadata": {},
   "source": [
    "## Creating Visualizations"
   ]
  },
  {
   "cell_type": "code",
   "execution_count": 11,
   "metadata": {},
   "outputs": [],
   "source": [
    "# Adding in the final CSV that I wrote so that you can run this file. TOTALLY SAFE TO DO SO FROM HERE.\n",
    "alcohol_categories_df = pd.read_csv(\"output_data/alcohol_categories.csv\")"
   ]
  },
  {
   "cell_type": "code",
   "execution_count": 12,
   "metadata": {},
   "outputs": [
    {
     "data": {
      "image/png": "[encoded data removed]",
      "text/plain": [
       "<Figure size 432x288 with 1 Axes>"
      ]
     },
     "metadata": {},
     "output_type": "display_data"
    }
   ],
   "source": [
    "# This pie chart includes the top ten alcoholic categories.\n",
    "# It has liqueur, which is a \"catch-all\" category, so might not be fair comparison.\n",
    "\n",
    "fig1, ax1 = plt.subplots()\n",
    "ax1.pie(alcohol_categories_df['Count'][0:9], labels=alcohol_categories_df['Category'][0:9], \n",
    "        explode=[0.1,0,0,0,0,0,0,0,0], autopct='%1.1f%%', pctdistance=0.7, labeldistance=1.1, shadow=True)\n",
    "ax1.axis('equal')  # Equal aspect ratio ensures that pie is drawn as a circle.\n",
    "\n",
    "plt.show()"
   ]
  },
  {
   "cell_type": "code",
   "execution_count": 13,
   "metadata": {},
   "outputs": [
    {
     "data": {
      "image/png": "[encoded data removed]",
      "text/plain": [
       "<Figure size 432x288 with 1 Axes>"
      ]
     },
     "metadata": {},
     "output_type": "display_data"
    }
   ],
   "source": [
    "# This pie chart includes the top ten alcoholic categories excluding liqueur--the top alcohol category.\n",
    "\n",
    "fig1, ax1 = plt.subplots()\n",
    "ax1.pie(alcohol_categories_df['Count'][1:10], labels=alcohol_categories_df['Category'][1:10], \n",
    "        explode=[0.1,0,0,0,0,0,0,0,0], autopct='%1.1f%%', pctdistance=0.7, labeldistance=1.1, shadow=True)\n",
    "ax1.axis('equal')  # Equal aspect ratio ensures that pie is drawn as a circle.\n",
    "\n",
    "plt.show()"
   ]
  },
  {
   "cell_type": "code",
   "execution_count": 14,
   "metadata": {},
   "outputs": [
    {
     "data": {
      "text/plain": [
       "([0, 1, 2, 3, 4, 5, 6, 7, 8], <a list of 9 Text xticklabel objects>)"
      ]
     },
     "execution_count": 14,
     "metadata": {},
     "output_type": "execute_result"
    },
    {
     "data": {
      "image/png": "[encoded data removed]",
      "text/plain": [
       "<Figure size 432x288 with 1 Axes>"
      ]
     },
     "metadata": {
      "needs_background": "light"
     },
     "output_type": "display_data"
    }
   ],
   "source": [
    "plt.bar(alcohol_categories_df['Category'][0:9],alcohol_categories_df['Count'][0:9])\n",
    "plt.xticks(rotation='vertical')"
   ]
  },
  {
   "cell_type": "code",
   "execution_count": 15,
   "metadata": {},
   "outputs": [
    {
     "data": {
      "text/plain": [
       "([0, 1, 2, 3, 4, 5, 6, 7, 8], <a list of 9 Text xticklabel objects>)"
      ]
     },
     "execution_count": 15,
     "metadata": {},
     "output_type": "execute_result"
    },
    {
     "data": {
      "image/png": "[encoded data removed]",
      "text/plain": [
       "<Figure size 432x288 with 1 Axes>"
      ]
     },
     "metadata": {
      "needs_background": "light"
     },
     "output_type": "display_data"
    }
   ],
   "source": [
    "plt.bar(alcohol_categories_df['Category'][1:10],alcohol_categories_df['Count'][1:10])\n",
    "plt.xticks(rotation='vertical')"
   ]
  },
  {
   "cell_type": "markdown",
   "metadata": {},
   "source": [
    "# Question Three Data Analysis"
   ]
  },
  {
   "cell_type": "code",
   "execution_count": 16,
   "metadata": {},
   "outputs": [
    {
     "data": {
      "text/html": [
       "<div>\n",
       "<style scoped>\n",
       "    .dataframe tbody tr th:only-of-type {\n",
       "        vertical-align: middle;\n",
       "    }\n",
       "\n",
       "    .dataframe tbody tr th {\n",
       "        vertical-align: top;\n",
       "    }\n",
       "\n",
       "    .dataframe thead th {\n",
       "        text-align: right;\n",
       "    }\n",
       "</style>\n",
       "<table border=\"1\" class=\"dataframe\">\n",
       "  <thead>\n",
       "    <tr style=\"text-align: right;\">\n",
       "      <th></th>\n",
       "      <th>Drink ID</th>\n",
       "      <th>Name</th>\n",
       "      <th>Category</th>\n",
       "      <th>Alcoholic</th>\n",
       "      <th>Glass</th>\n",
       "      <th>Ingredients</th>\n",
       "      <th>Measure</th>\n",
       "      <th>Ingredients Count</th>\n",
       "    </tr>\n",
       "  </thead>\n",
       "  <tbody>\n",
       "    <tr>\n",
       "      <th>0</th>\n",
       "      <td>15567</td>\n",
       "      <td>Adam Sunrise</td>\n",
       "      <td>Ordinary Drink</td>\n",
       "      <td>True</td>\n",
       "      <td>Collins Glass</td>\n",
       "      <td>[Vodka, Lemonade, Water, Sugar]</td>\n",
       "      <td>['1/2 ', '1/2 can ', '1/2 ', '10 tsp ']</td>\n",
       "      <td>4</td>\n",
       "    </tr>\n",
       "    <tr>\n",
       "      <th>1</th>\n",
       "      <td>17141</td>\n",
       "      <td>Smut</td>\n",
       "      <td>Punch / Party Drink</td>\n",
       "      <td>True</td>\n",
       "      <td>Beer mug</td>\n",
       "      <td>[Red wine, Peach schnapps, Pepsi Cola, Orange ...</td>\n",
       "      <td>['1/3 part ', '1 shot ', '1/3 part ', '1/3 par...</td>\n",
       "      <td>4</td>\n",
       "    </tr>\n",
       "    <tr>\n",
       "      <th>2</th>\n",
       "      <td>15200</td>\n",
       "      <td>A Day at the Beach</td>\n",
       "      <td>Ordinary Drink</td>\n",
       "      <td>True</td>\n",
       "      <td>Highball glass</td>\n",
       "      <td>[Coconut rum, Amaretto, Orange juice, Grenadine]</td>\n",
       "      <td>['1 oz ', '1/2 oz ', '4 oz ', '1/2 oz ']</td>\n",
       "      <td>4</td>\n",
       "    </tr>\n",
       "    <tr>\n",
       "      <th>3</th>\n",
       "      <td>15743</td>\n",
       "      <td>Fuzzy Asshole</td>\n",
       "      <td>Coffee / Tea</td>\n",
       "      <td>True</td>\n",
       "      <td>Coffee mug</td>\n",
       "      <td>[Coffee, Peach schnapps]</td>\n",
       "      <td>['1/2 ', '1/2 ']</td>\n",
       "      <td>2</td>\n",
       "    </tr>\n",
       "    <tr>\n",
       "      <th>4</th>\n",
       "      <td>17168</td>\n",
       "      <td>Amaretto Sunset</td>\n",
       "      <td>Ordinary Drink</td>\n",
       "      <td>True</td>\n",
       "      <td>Collins Glass</td>\n",
       "      <td>[Triple sec, Amaretto, Cider, Ice]</td>\n",
       "      <td>['1/2 jigger ', '3 shots ', '1/2 cup ', 'Add 1...</td>\n",
       "      <td>4</td>\n",
       "    </tr>\n",
       "  </tbody>\n",
       "</table>\n",
       "</div>"
      ],
      "text/plain": [
       "   Drink ID                Name             Category  Alcoholic  \\\n",
       "0     15567        Adam Sunrise       Ordinary Drink       True   \n",
       "1     17141                Smut  Punch / Party Drink       True   \n",
       "2     15200  A Day at the Beach       Ordinary Drink       True   \n",
       "3     15743       Fuzzy Asshole         Coffee / Tea       True   \n",
       "4     17168     Amaretto Sunset       Ordinary Drink       True   \n",
       "\n",
       "            Glass                                        Ingredients  \\\n",
       "0   Collins Glass                    [Vodka, Lemonade, Water, Sugar]   \n",
       "1        Beer mug  [Red wine, Peach schnapps, Pepsi Cola, Orange ...   \n",
       "2  Highball glass   [Coconut rum, Amaretto, Orange juice, Grenadine]   \n",
       "3      Coffee mug                           [Coffee, Peach schnapps]   \n",
       "4   Collins Glass                 [Triple sec, Amaretto, Cider, Ice]   \n",
       "\n",
       "                                             Measure  Ingredients Count  \n",
       "0            ['1/2 ', '1/2 can ', '1/2 ', '10 tsp ']                  4  \n",
       "1  ['1/3 part ', '1 shot ', '1/3 part ', '1/3 par...                  4  \n",
       "2           ['1 oz ', '1/2 oz ', '4 oz ', '1/2 oz ']                  4  \n",
       "3                                   ['1/2 ', '1/2 ']                  2  \n",
       "4  ['1/2 jigger ', '3 shots ', '1/2 cup ', 'Add 1...                  4  "
      ]
     },
     "execution_count": 16,
     "metadata": {},
     "output_type": "execute_result"
    }
   ],
   "source": [
    "# Creation of Ingredients Count Column. Feel free to delete if not needed.\n",
    "\n",
    "drink_df['Ingredients Count'] = 0\n",
    "for i in range(0, len(drink_df)):\n",
    "    drink_df.loc[i,'Ingredients Count'] = len(drink_df.loc[i,'Ingredients'])\n",
    "drink_df.head()"
   ]
  },
  {
   "cell_type": "code",
   "execution_count": 17,
   "metadata": {},
   "outputs": [],
   "source": [
    "# split list into Alcoholic and Non-alcoholic data frames. Sort lists on Ingredients Count and reset index\n",
    "drink_al_df = drink_df.loc[drink_df['Alcoholic'] == True].sort_values('Ingredients Count', ascending = False).reset_index(drop = True)\n",
    "drink_non_df = drink_df.loc[drink_df['Alcoholic'] != True].sort_values('Ingredients Count', ascending = False).reset_index(drop = True)"
   ]
  },
  {
   "cell_type": "code",
   "execution_count": 30,
   "metadata": {},
   "outputs": [
    {
     "name": "stdout",
     "output_type": "stream",
     "text": [
      "Total alcoholic cocktails = 446.\n"
     ]
    },
    {
     "data": {
      "text/html": [
       "<div>\n",
       "<style scoped>\n",
       "    .dataframe tbody tr th:only-of-type {\n",
       "        vertical-align: middle;\n",
       "    }\n",
       "\n",
       "    .dataframe tbody tr th {\n",
       "        vertical-align: top;\n",
       "    }\n",
       "\n",
       "    .dataframe thead th {\n",
       "        text-align: right;\n",
       "    }\n",
       "</style>\n",
       "<table border=\"1\" class=\"dataframe\">\n",
       "  <thead>\n",
       "    <tr style=\"text-align: right;\">\n",
       "      <th></th>\n",
       "      <th>Drink ID</th>\n",
       "      <th>Name</th>\n",
       "      <th>Category</th>\n",
       "      <th>Alcoholic</th>\n",
       "      <th>Glass</th>\n",
       "      <th>Ingredients</th>\n",
       "      <th>Measure</th>\n",
       "      <th>Ingredients Count</th>\n",
       "    </tr>\n",
       "  </thead>\n",
       "  <tbody>\n",
       "    <tr>\n",
       "      <th>0</th>\n",
       "      <td>12794</td>\n",
       "      <td>Angelica Liqueur</td>\n",
       "      <td>Homemade Liqueur</td>\n",
       "      <td>True</td>\n",
       "      <td>Collins Glass</td>\n",
       "      <td>[Angelica root, Almond, Allspice, Cinnamon, An...</td>\n",
       "      <td>['3 tblsp chopped', '1 tblsp chopped ', '1 cra...</td>\n",
       "      <td>12</td>\n",
       "    </tr>\n",
       "    <tr>\n",
       "      <th>1</th>\n",
       "      <td>12792</td>\n",
       "      <td>Amaretto Liqueur</td>\n",
       "      <td>Homemade Liqueur</td>\n",
       "      <td>True</td>\n",
       "      <td>Collins Glass</td>\n",
       "      <td>[Sugar, Water, Apricot, Almond flavoring, Grai...</td>\n",
       "      <td>['1 cup', '3/4 cup ', '2 ', '1 tblsp ', '1/2 c...</td>\n",
       "      <td>11</td>\n",
       "    </tr>\n",
       "    <tr>\n",
       "      <th>2</th>\n",
       "      <td>12910</td>\n",
       "      <td>Egg Nog #4</td>\n",
       "      <td>Punch / Party Drink</td>\n",
       "      <td>True</td>\n",
       "      <td>punch bowl</td>\n",
       "      <td>[Egg yolk, Sugar, Milk, Light rum, Bourbon, Va...</td>\n",
       "      <td>['6 ', '1/4 cup ', '2 cups ', '1/2 cup ', '1/2...</td>\n",
       "      <td>11</td>\n",
       "    </tr>\n",
       "    <tr>\n",
       "      <th>3</th>\n",
       "      <td>15300</td>\n",
       "      <td>3-Mile Long Island Iced Tea</td>\n",
       "      <td>Ordinary Drink</td>\n",
       "      <td>True</td>\n",
       "      <td>Collins Glass</td>\n",
       "      <td>[Gin, Light rum, Tequila, Triple sec, Vodka, C...</td>\n",
       "      <td>['1/2 oz ', '1/2 oz ', '1/2 oz ', '1/2 oz ', '...</td>\n",
       "      <td>9</td>\n",
       "    </tr>\n",
       "    <tr>\n",
       "      <th>4</th>\n",
       "      <td>13024</td>\n",
       "      <td>Sweet Sangria</td>\n",
       "      <td>Punch / Party Drink</td>\n",
       "      <td>True</td>\n",
       "      <td>pitcher</td>\n",
       "      <td>[Red wine, Sugar, Water, Apple, Orange, Lime, ...</td>\n",
       "      <td>['2 bottles ', '1 cup ', '2 cups hot ', '1 cup...</td>\n",
       "      <td>8</td>\n",
       "    </tr>\n",
       "  </tbody>\n",
       "</table>\n",
       "</div>"
      ],
      "text/plain": [
       "   Drink ID                         Name             Category  Alcoholic  \\\n",
       "0     12794             Angelica Liqueur     Homemade Liqueur       True   \n",
       "1     12792             Amaretto Liqueur     Homemade Liqueur       True   \n",
       "2     12910                   Egg Nog #4  Punch / Party Drink       True   \n",
       "3     15300  3-Mile Long Island Iced Tea       Ordinary Drink       True   \n",
       "4     13024                Sweet Sangria  Punch / Party Drink       True   \n",
       "\n",
       "           Glass                                        Ingredients  \\\n",
       "0  Collins Glass  [Angelica root, Almond, Allspice, Cinnamon, An...   \n",
       "1  Collins Glass  [Sugar, Water, Apricot, Almond flavoring, Grai...   \n",
       "2     punch bowl  [Egg yolk, Sugar, Milk, Light rum, Bourbon, Va...   \n",
       "3  Collins Glass  [Gin, Light rum, Tequila, Triple sec, Vodka, C...   \n",
       "4        pitcher  [Red wine, Sugar, Water, Apple, Orange, Lime, ...   \n",
       "\n",
       "                                             Measure  Ingredients Count  \n",
       "0  ['3 tblsp chopped', '1 tblsp chopped ', '1 cra...                 12  \n",
       "1  ['1 cup', '3/4 cup ', '2 ', '1 tblsp ', '1/2 c...                 11  \n",
       "2  ['6 ', '1/4 cup ', '2 cups ', '1/2 cup ', '1/2...                 11  \n",
       "3  ['1/2 oz ', '1/2 oz ', '1/2 oz ', '1/2 oz ', '...                  9  \n",
       "4  ['2 bottles ', '1 cup ', '2 cups hot ', '1 cup...                  8  "
      ]
     },
     "execution_count": 30,
     "metadata": {},
     "output_type": "execute_result"
    }
   ],
   "source": [
    "print(f\"Total alcoholic cocktails = {len(drink_al_df)}.\")\n",
    "drink_al_df.head()"
   ]
  },
  {
   "cell_type": "code",
   "execution_count": 23,
   "metadata": {},
   "outputs": [
    {
     "name": "stdout",
     "output_type": "stream",
     "text": [
      "Total non-alcoholic cocktails = 39.\n"
     ]
    },
    {
     "data": {
      "text/html": [
       "<div>\n",
       "<style scoped>\n",
       "    .dataframe tbody tr th:only-of-type {\n",
       "        vertical-align: middle;\n",
       "    }\n",
       "\n",
       "    .dataframe tbody tr th {\n",
       "        vertical-align: top;\n",
       "    }\n",
       "\n",
       "    .dataframe thead th {\n",
       "        text-align: right;\n",
       "    }\n",
       "</style>\n",
       "<table border=\"1\" class=\"dataframe\">\n",
       "  <thead>\n",
       "    <tr style=\"text-align: right;\">\n",
       "      <th></th>\n",
       "      <th>Drink ID</th>\n",
       "      <th>Name</th>\n",
       "      <th>Category</th>\n",
       "      <th>Alcoholic</th>\n",
       "      <th>Glass</th>\n",
       "      <th>Ingredients</th>\n",
       "      <th>Measure</th>\n",
       "      <th>Ingredients Count</th>\n",
       "    </tr>\n",
       "  </thead>\n",
       "  <tbody>\n",
       "    <tr>\n",
       "      <th>0</th>\n",
       "      <td>12774</td>\n",
       "      <td>Masala Chai</td>\n",
       "      <td>Coffee / Tea</td>\n",
       "      <td>False</td>\n",
       "      <td>coffee mug</td>\n",
       "      <td>[Water, Tea, Ginger, Cardamom, Cloves, Cinnamo...</td>\n",
       "      <td>['2 cups ', '3-4 tsp ', '1 chunk dried ', '3-4...</td>\n",
       "      <td>9</td>\n",
       "    </tr>\n",
       "    <tr>\n",
       "      <th>1</th>\n",
       "      <td>12670</td>\n",
       "      <td>Fruit Cooler</td>\n",
       "      <td>Other/Unknown</td>\n",
       "      <td>False</td>\n",
       "      <td>highball glass</td>\n",
       "      <td>[Apple juice, Strawberries, Sugar, Lemon, Appl...</td>\n",
       "      <td>['1 can frozen ', '1 cup ', '2 tblsp ', '1 ', ...</td>\n",
       "      <td>7</td>\n",
       "    </tr>\n",
       "    <tr>\n",
       "      <th>2</th>\n",
       "      <td>12782</td>\n",
       "      <td>Thai Coffee</td>\n",
       "      <td>Coffee / Tea</td>\n",
       "      <td>False</td>\n",
       "      <td>highball glass</td>\n",
       "      <td>[Coffee, Coriander, Cardamom, Sugar, Whipping ...</td>\n",
       "      <td>['6 tblsp ground', '1/4 tsp ', '4-5 whole gree...</td>\n",
       "      <td>6</td>\n",
       "    </tr>\n",
       "    <tr>\n",
       "      <th>3</th>\n",
       "      <td>12786</td>\n",
       "      <td>Thai Iced Tea</td>\n",
       "      <td>Coffee / Tea</td>\n",
       "      <td>False</td>\n",
       "      <td>highball glass</td>\n",
       "      <td>[Tea, Water, Condensed milk, Ice, Mint]</td>\n",
       "      <td>['1/4 cup Thai ', '1/2 cup boiling ', '2 tsp s...</td>\n",
       "      <td>5</td>\n",
       "    </tr>\n",
       "    <tr>\n",
       "      <th>4</th>\n",
       "      <td>12690</td>\n",
       "      <td>Lassi - A South Indian Drink</td>\n",
       "      <td>Other/Unknown</td>\n",
       "      <td>False</td>\n",
       "      <td>Highball Glass</td>\n",
       "      <td>[Yoghurt, Water, Cumin seed, Salt, Mint]</td>\n",
       "      <td>['1/2 cup plain ', '1 1/4 cup cold ', '1/2 tsp...</td>\n",
       "      <td>5</td>\n",
       "    </tr>\n",
       "  </tbody>\n",
       "</table>\n",
       "</div>"
      ],
      "text/plain": [
       "   Drink ID                          Name       Category  Alcoholic  \\\n",
       "0     12774                   Masala Chai   Coffee / Tea      False   \n",
       "1     12670                  Fruit Cooler  Other/Unknown      False   \n",
       "2     12782                   Thai Coffee   Coffee / Tea      False   \n",
       "3     12786                 Thai Iced Tea   Coffee / Tea      False   \n",
       "4     12690  Lassi - A South Indian Drink  Other/Unknown      False   \n",
       "\n",
       "            Glass                                        Ingredients  \\\n",
       "0      coffee mug  [Water, Tea, Ginger, Cardamom, Cloves, Cinnamo...   \n",
       "1  highball glass  [Apple juice, Strawberries, Sugar, Lemon, Appl...   \n",
       "2  highball glass  [Coffee, Coriander, Cardamom, Sugar, Whipping ...   \n",
       "3  highball glass            [Tea, Water, Condensed milk, Ice, Mint]   \n",
       "4  Highball Glass           [Yoghurt, Water, Cumin seed, Salt, Mint]   \n",
       "\n",
       "                                             Measure  Ingredients Count  \n",
       "0  ['2 cups ', '3-4 tsp ', '1 chunk dried ', '3-4...                  9  \n",
       "1  ['1 can frozen ', '1 cup ', '2 tblsp ', '1 ', ...                  7  \n",
       "2  ['6 tblsp ground', '1/4 tsp ', '4-5 whole gree...                  6  \n",
       "3  ['1/4 cup Thai ', '1/2 cup boiling ', '2 tsp s...                  5  \n",
       "4  ['1/2 cup plain ', '1 1/4 cup cold ', '1/2 tsp...                  5  "
      ]
     },
     "execution_count": 23,
     "metadata": {},
     "output_type": "execute_result"
    }
   ],
   "source": [
    "print(f\"Total non-alcoholic cocktails = {len(drink_non_df)}.\")\n",
    "drink_non_df.head()"
   ]
  },
  {
   "cell_type": "code",
   "execution_count": 20,
   "metadata": {},
   "outputs": [
    {
     "data": {
      "image/png": "[encoded data removed]",
      "text/plain": [
       "<Figure size 432x288 with 1 Axes>"
      ]
     },
     "metadata": {
      "needs_background": "light"
     },
     "output_type": "display_data"
    }
   ],
   "source": [
    "drink_al_df.loc[0:9,:].plot(\"Name\",\"Ingredients Count\", kind = 'bar', legend = False, title = \"Number of Ingredients in Top 10 Alcoholic Cocktails\")\n",
    "plt.xticks(rotation = 45, ha = 'right')\n",
    "plt.xlabel(\"Cocktail Name\")\n",
    "plt.ylabel(\"Ingredients Count\")\n",
    "plt.savefig('output_data/Ingredients_Count_Alcohol.png', bbox_inches=\"tight\")\n",
    "plt.show()"
   ]
  },
  {
   "cell_type": "code",
   "execution_count": 21,
   "metadata": {},
   "outputs": [
    {
     "data": {
      "image/png": "[encoded data removed]",
      "text/plain": [
       "<Figure size 432x288 with 1 Axes>"
      ]
     },
     "metadata": {
      "needs_background": "light"
     },
     "output_type": "display_data"
    }
   ],
   "source": [
    "drink_non_df.loc[0:9,:].plot(\"Name\",\"Ingredients Count\", kind = 'bar', legend = False, title = \"Number of Ingredients in Top 10 Non-Alcoholic Cocktails\")\n",
    "plt.xticks(rotation = 45, ha = 'right')\n",
    "plt.xlabel(\"Cocktail Name\")\n",
    "plt.ylabel(\"Ingredients Count\")\n",
    "plt.savefig('output_data/Ingredients_Count_NonAlcohol.png', bbox_inches=\"tight\")\n",
    "plt.show()"
   ]
  },
  {
   "cell_type": "code",
   "execution_count": 22,
   "metadata": {},
   "outputs": [
    {
     "data": {
      "text/html": [
       "<div>\n",
       "<style scoped>\n",
       "    .dataframe tbody tr th:only-of-type {\n",
       "        vertical-align: middle;\n",
       "    }\n",
       "\n",
       "    .dataframe tbody tr th {\n",
       "        vertical-align: top;\n",
       "    }\n",
       "\n",
       "    .dataframe thead th {\n",
       "        text-align: right;\n",
       "    }\n",
       "</style>\n",
       "<table border=\"1\" class=\"dataframe\">\n",
       "  <thead>\n",
       "    <tr style=\"text-align: right;\">\n",
       "      <th></th>\n",
       "      <th>Alcoholic</th>\n",
       "      <th>Ingredients Count</th>\n",
       "    </tr>\n",
       "  </thead>\n",
       "  <tbody>\n",
       "    <tr>\n",
       "      <th>0</th>\n",
       "      <td>Alcoholic</td>\n",
       "      <td>12</td>\n",
       "    </tr>\n",
       "    <tr>\n",
       "      <th>1</th>\n",
       "      <td>Alcoholic</td>\n",
       "      <td>11</td>\n",
       "    </tr>\n",
       "    <tr>\n",
       "      <th>2</th>\n",
       "      <td>Alcoholic</td>\n",
       "      <td>11</td>\n",
       "    </tr>\n",
       "    <tr>\n",
       "      <th>3</th>\n",
       "      <td>Alcoholic</td>\n",
       "      <td>9</td>\n",
       "    </tr>\n",
       "    <tr>\n",
       "      <th>4</th>\n",
       "      <td>Alcoholic</td>\n",
       "      <td>8</td>\n",
       "    </tr>\n",
       "    <tr>\n",
       "      <th>...</th>\n",
       "      <td>...</td>\n",
       "      <td>...</td>\n",
       "    </tr>\n",
       "    <tr>\n",
       "      <th>480</th>\n",
       "      <td>Non-alcoholic</td>\n",
       "      <td>2</td>\n",
       "    </tr>\n",
       "    <tr>\n",
       "      <th>481</th>\n",
       "      <td>Non-alcoholic</td>\n",
       "      <td>2</td>\n",
       "    </tr>\n",
       "    <tr>\n",
       "      <th>482</th>\n",
       "      <td>Non-alcoholic</td>\n",
       "      <td>2</td>\n",
       "    </tr>\n",
       "    <tr>\n",
       "      <th>483</th>\n",
       "      <td>Non-alcoholic</td>\n",
       "      <td>2</td>\n",
       "    </tr>\n",
       "    <tr>\n",
       "      <th>484</th>\n",
       "      <td>Non-alcoholic</td>\n",
       "      <td>2</td>\n",
       "    </tr>\n",
       "  </tbody>\n",
       "</table>\n",
       "<p>485 rows × 2 columns</p>\n",
       "</div>"
      ],
      "text/plain": [
       "         Alcoholic  Ingredients Count\n",
       "0        Alcoholic                 12\n",
       "1        Alcoholic                 11\n",
       "2        Alcoholic                 11\n",
       "3        Alcoholic                  9\n",
       "4        Alcoholic                  8\n",
       "..             ...                ...\n",
       "480  Non-alcoholic                  2\n",
       "481  Non-alcoholic                  2\n",
       "482  Non-alcoholic                  2\n",
       "483  Non-alcoholic                  2\n",
       "484  Non-alcoholic                  2\n",
       "\n",
       "[485 rows x 2 columns]"
      ]
     },
     "execution_count": 22,
     "metadata": {},
     "output_type": "execute_result"
    }
   ],
   "source": [
    "# Create dataframe to do statistics on\n",
    "\n",
    "complex_df = drink_al_df[[\"Alcoholic\", \"Ingredients Count\"]]\n",
    "complex_df = complex_df.append(drink_non_df[[\"Alcoholic\", \"Ingredients Count\"]], ignore_index=True)\n",
    "complex_df.replace({True: \"Alcoholic\", False: \"Non-alcoholic\"}, inplace=True)\n",
    "complex_df"
   ]
  },
  {
   "cell_type": "code",
   "execution_count": 24,
   "metadata": {},
   "outputs": [
    {
     "data": {
      "image/png": "[encoded data removed]",
      "text/plain": [
       "<Figure size 720x360 with 1 Axes>"
      ]
     },
     "metadata": {
      "needs_background": "light"
     },
     "output_type": "display_data"
    }
   ],
   "source": [
    "# Create the boxplot to see any statistically significant difference\n",
    "\n",
    "complex_df.boxplot(\"Ingredients Count\", by=\"Alcoholic\", figsize=(10, 5))\n",
    "plt.xlabel(\"\")\n",
    "plt.suptitle('')\n",
    "plt.title(\"Statistical Means of Ingredients Count\")\n",
    "plt.savefig('output_data/Box_Plot_AverageIng.png', bbox_inches=\"tight\")\n",
    "plt.show()"
   ]
  },
  {
   "cell_type": "code",
   "execution_count": 27,
   "metadata": {},
   "outputs": [
    {
     "data": {
      "text/plain": [
       "F_onewayResult(statistic=0.014269847328811067, pvalue=0.904963396704295)"
      ]
     },
     "execution_count": 27,
     "metadata": {},
     "output_type": "execute_result"
    }
   ],
   "source": [
    "# Extract groups and perform ANOVA\n",
    "group1 = complex_df[complex_df[\"Alcoholic\"] == \"Alcoholic\"][\"Ingredients Count\"]\n",
    "group2 = complex_df[complex_df[\"Alcoholic\"] == \"Non-alcoholic\"][\"Ingredients Count\"]\n",
    "\n",
    "stats.f_oneway(group1, group2)"
   ]
  },
  {
   "cell_type": "code",
   "execution_count": 28,
   "metadata": {},
   "outputs": [
    {
     "data": {
      "image/png": "[encoded data removed]",
      "text/plain": [
       "<Figure size 720x360 with 1 Axes>"
      ]
     },
     "metadata": {
      "needs_background": "light"
     },
     "output_type": "display_data"
    },
    {
     "data": {
      "text/plain": [
       "F_onewayResult(statistic=20.480000000000008, pvalue=0.0002618655396325768)"
      ]
     },
     "execution_count": 28,
     "metadata": {},
     "output_type": "execute_result"
    }
   ],
   "source": [
    "# Restrict to the top 10 from both lists\n",
    "complex2_df = drink_al_df.loc[0:9,:][[\"Alcoholic\", \"Ingredients Count\"]]\n",
    "complex2_df = complex2_df.append(drink_non_df.loc[0:9,:][[\"Alcoholic\", \"Ingredients Count\"]], ignore_index=True)\n",
    "complex2_df.replace({True: \"Alcoholic\", False: \"Non-alcoholic\"}, inplace=True)\n",
    "\n",
    "complex2_df.boxplot(\"Ingredients Count\", by=\"Alcoholic\", figsize=(10, 5))\n",
    "plt.suptitle('')\n",
    "plt.title(\"Statistical Means of Ingredients Count\")\n",
    "plt.savefig('output_data/Box_Plot_AverageIngTop10.png', bbox_inches=\"tight\")\n",
    "plt.show()\n",
    "\n",
    "group1 = complex2_df[complex2_df[\"Alcoholic\"] == \"Alcoholic\"][\"Ingredients Count\"]\n",
    "group2 = complex2_df[complex2_df[\"Alcoholic\"] == \"Non-alcoholic\"][\"Ingredients Count\"]\n",
    "\n",
    "stats.f_oneway(group1, group2)"
   ]
  },
  {
   "cell_type": "code",
   "execution_count": null,
   "metadata": {},
   "outputs": [],
   "source": []
  }
 ],
 "metadata": {
  "kernelspec": {
   "display_name": "Python 3",
   "language": "python",
   "name": "python3"
  },
  "language_info": {
   "codemirror_mode": {
    "name": "ipython",
    "version": 3
   },
   "file_extension": ".py",
   "mimetype": "text/x-python",
   "name": "python",
   "nbconvert_exporter": "python",
   "pygments_lexer": "ipython3",
   "version": "3.7.6"
  }
 },
 "nbformat": 4,
 "nbformat_minor": 4
}
