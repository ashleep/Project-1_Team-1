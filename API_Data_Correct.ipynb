{
 "cells": [
  {
   "cell_type": "code",
   "execution_count": 1,
   "metadata": {},
   "outputs": [],
   "source": [
    "#!pip install matplotlib\n",
    "#!pip install pandas\n",
    "#!pip install requests\n",
    "#!pip install gmaps\n",
    "\n",
    "\n",
    "# Dependencies and Setup\n",
    "import matplotlib.pyplot as plt\n",
    "import pandas as pd\n",
    "import numpy as np\n",
    "import requests\n",
    "import gmaps\n",
    "import os\n",
    "import json\n",
    "\n",
    "# Import API key\n",
    "from api_keys import cocktail_api\n",
    "\n",
    "# Output File (CSV)\n",
    "output_data_file = \"output_data/drinks.csv\"\n",
    "\n"
   ]
  },
  {
   "cell_type": "code",
   "execution_count": 2,
   "metadata": {
    "scrolled": true
   },
   "outputs": [
    {
     "name": "stdout",
     "output_type": "stream",
     "text": [
      "No drinks staring with u found.\n",
      "No drinks staring with x found.\n",
      "No drinks staring with 8 found.\n",
      "No drinks staring with 0 found.\n"
     ]
    }
   ],
   "source": [
    "base_url = \"https://www.thecocktaildb.com/api/json/v1/1/search.php?f=\"\n",
    "letter_list = ['a', 'b', 'c', 'd', 'e', 'f', 'g', 'h', 'i', 'j', 'k', 'l', 'm', 'n', 'o', 'p', 'q', 'r', 's', 't', 'u', 'v', 'w', 'x', 'y', 'z', \"1\", \"2\", \"3\", \"4\", \"5\", \"6\", \"7\", \"8\", \"9\", \"0\", \"'\"]\n",
    "\n",
    "#initilize lists\n",
    "drink_id = []\n",
    "drink_name = []\n",
    "drink_category = []\n",
    "drink_alcohol = []\n",
    "drink_glass = []\n",
    "drink_ingredients=[]\n",
    "drink_measure = []\n",
    "\n",
    "for letter in letter_list:\n",
    "    #create request and save data into json\n",
    "    drink_response = requests.get(base_url+letter)\n",
    "    drink_data = drink_response.json()\n",
    "    drink_data = drink_data[\"drinks\"]\n",
    "    \n",
    "    try:\n",
    "        #get index for first through last list item\n",
    "        #use try and except to filter out letter/numbers with no drinks listed\n",
    "        length = len(drink_data)-1\n",
    "\n",
    "        for element in range(0,length):\n",
    "\n",
    "            #get drink ID and add to list\n",
    "            drink_id.append(drink_data[element][\"idDrink\"])         \n",
    "\n",
    "            #get drink name and add to list\n",
    "            drink_name.append(drink_data[element][\"strDrink\"])\n",
    "            #print list of drinks\n",
    "            #print(f\"{drink_name[-1]}\")\n",
    "\n",
    "            #get drink category and add to list\n",
    "            drink_category.append(drink_data[element][\"strCategory\"])\n",
    "\n",
    "\n",
    "            #get data on if its alcoholic or not\n",
    "            TF_alcohol = drink_data[element][\"strAlcoholic\"]\n",
    "\n",
    "            if TF_alcohol != \"Non alcoholic\":\n",
    "                drink_alcohol.append(True)\n",
    "\n",
    "            else:\n",
    "                drink_alcohol.append(False)\n",
    "\n",
    "            #get glass type and add to list\n",
    "            drink_glass.append(drink_data[element][\"strGlass\"])\n",
    "\n",
    "\n",
    "            #get ingredients from list\n",
    "            i=1\n",
    "            ingredient_list = []\n",
    "            ingredient = \"\"\n",
    "            while i<=15:\n",
    "                ingredient = drink_data[element][f\"strIngredient{i}\"]\n",
    "\n",
    "                if ingredient == None:\n",
    "                    i+=1\n",
    "                else:\n",
    "                    ingredient_list.append(drink_data[element][f\"strIngredient{i}\"])\n",
    "                    i+=1\n",
    "\n",
    "            drink_ingredients.append(ingredient_list)\n",
    "\n",
    "\n",
    "            #get measurments from data\n",
    "            i=1\n",
    "            measure_list = []\n",
    "            measure = \"\"\n",
    "            while i<=len(ingredient_list):\n",
    "                measure = drink_data[element][f\"strMeasure{i}\"]     \n",
    "                measure_list.append(drink_data[element][f\"strMeasure{i}\"])\n",
    "                i+=1\n",
    "\n",
    "            drink_measure.append(measure_list)\n",
    "            \n",
    "            \n",
    "    except:\n",
    "        #print message if there is no drink found starting with that letter\n",
    "        print(f\"No drinks staring with {letter} found.\")\n",
    "\n",
    "\n",
    "#create data frame with info from above lists\n",
    "drinks_df = pd.DataFrame({\n",
    "    \"Drink ID\":drink_id, \n",
    "    \"Name\":drink_name,\n",
    "    \"Category\":drink_category,\n",
    "    \"Alcoholic\":drink_alcohol,\n",
    "    \"Glass\":drink_glass,\n",
    "    \"Ingredients\":drink_ingredients,\n",
    "    \"Measure\":drink_measure\n",
    "})\n"
   ]
  },
  {
   "cell_type": "code",
   "execution_count": 3,
   "metadata": {},
   "outputs": [],
   "source": [
    "#Clean glass data\n",
    "drinks_df[\"Glass\"] = drinks_df[\"Glass\"].str.lower()\n",
    "drinks_df[\"Glass\"] = drinks_df[\"Glass\"].replace([\"margarita/coupette glass\",\"white wine glass\", \"whiskey sour glass\"], [\"margarita glass\",\"wine glass\", \"old-fashioned glass\"])"
   ]
  },
  {
   "cell_type": "markdown",
   "metadata": {},
   "source": [
    "# Question 2 Initial Cleaning"
   ]
  },
  {
   "cell_type": "code",
   "execution_count": 4,
   "metadata": {},
   "outputs": [],
   "source": [
    "# Creation of sorted list of tuples. Useful for most used ingredient\n",
    "ing_count = {}\n",
    "for i in range(0, len(drink_df)):\n",
    "    for ing in drink_df.loc[i,'Ingredients']:\n",
    "        if ing in ing_count:\n",
    "            ing_count[ing] = ing_count[ing] + 1\n",
    "        else:\n",
    "            ing_count[ing] = 1\n",
    "            \n",
    "#print(ing_count)\n",
    "a=sorted(ing_count.items(), key=lambda x: x[1], reverse = True)\n",
    "print(a)\n",
    "#print(drink2_df['Ingredients'].to_string())"
   ]
  },
  {
   "cell_type": "code",
   "execution_count": 5,
   "metadata": {},
   "outputs": [],
   "source": [
    "### NOTE: Adding in a csv read here if you actually wanted to run this Notebook. I recommend against it though!\n",
    "\n",
    "df = pd.read_csv(\"ingredients_list.csv\")\n",
    "df = df.drop('Unnamed: 0', axis=1)\n",
    "drink_names = df.Name"
   ]
  },
  {
   "cell_type": "code",
   "execution_count": null,
   "metadata": {},
   "outputs": [],
   "source": [
    "# Creating two lists of alcoholic and non-alcoholic.\n",
    "\n",
    "alcoholic = []\n",
    "non_alcoholic = []"
   ]
  },
  {
   "cell_type": "code",
   "execution_count": null,
   "metadata": {},
   "outputs": [],
   "source": [
    "# Manual filtration of ingredients in DF to these two lists. Ugly manual filtration.\n",
    "\n",
    "for n in drink_names:\n",
    "        answer = input(f\"Is {n} alcoholic?\\r\")\n",
    "        if answer == \"\" or answer == \"y\":\n",
    "            alcoholic.append(n)\n",
    "        else:\n",
    "            non_alcoholic.append(n)"
   ]
  },
  {
   "cell_type": "code",
   "execution_count": null,
   "metadata": {},
   "outputs": [],
   "source": [
    "# Lists to Series and drop NAs, nothing flashy.\n",
    "\n",
    "alcoholic_df = pd.Series(alcoholic).dropna()\n",
    "non_alcoholic_df = pd.Series(non_alcoholic).dropna()"
   ]
  },
  {
   "cell_type": "code",
   "execution_count": null,
   "metadata": {},
   "outputs": [],
   "source": [
    "# Created two CSVs for these DataFrames so that I wouldn't have to re-classify these ever again..\n",
    "\n",
    "alcoholic_df.to_csv(\"alcohol_items.csv\")\n",
    "non_alcoholic_df.to_csv(\"non_alcohol_items.csv\")"
   ]
  },
  {
   "cell_type": "markdown",
   "metadata": {},
   "source": [
    "## Question Two Further Cleaning"
   ]
  },
  {
   "cell_type": "code",
   "execution_count": 6,
   "metadata": {},
   "outputs": [],
   "source": [
    "# Reading in alcoholic_df.csv so that you can actually run this Notebook. I recommend against it though!\n",
    "\n",
    "alcoholic_df = pd.read_csv(\"alcohol_items.csv\")"
   ]
  },
  {
   "cell_type": "code",
   "execution_count": null,
   "metadata": {},
   "outputs": [],
   "source": [
    "# Created groups for bulk-categorization.\n",
    "\n",
    "alcohol_groups = [\n",
    "    'gin','liqueur','vodka','rum',\n",
    "    'schnapps','scotch','wine','creme',\n",
    "    'vermouth','sambuca','whiskey','tequila',\n",
    "    'absolut','brandy'\n",
    "]"
   ]
  },
  {
   "cell_type": "code",
   "execution_count": null,
   "metadata": {},
   "outputs": [],
   "source": [
    "# Simply taking items with the category name somewhere in the name and assigning to the category.\n",
    "# Example: Bacardi Rum, Dark Rum, Light Rum and Rum would be assigned simply to Rum.\n",
    "# Shrinks list from over 150 items down to under 90.\n",
    "\n",
    "for g in alcohol_groups:\n",
    "    converter = alcoholic_df.loc[alcoholic_df['Names'].str.contains(g), 'Names'] = g"
   ]
  },
  {
   "cell_type": "code",
   "execution_count": null,
   "metadata": {},
   "outputs": [],
   "source": [
    "# Storing everything into new DataFrame to not risk tampering with old stuff. Unnecessary step but opted for it.\n",
    "\n",
    "alcohol_names = alcoholic_df.groupby(['Names'])\n",
    "add_values = alcohol_names['Count'].sum()\n",
    "alcoholic_df_ = pd.DataFrame(add_values).sort_values(by=['Count'], ascending=False).reset_index()"
   ]
  },
  {
   "cell_type": "code",
   "execution_count": null,
   "metadata": {},
   "outputs": [],
   "source": [
    "# With 90 items, now we need to assigned named items into bigger categories. More manual filtration.\n",
    "# For example, Absolut to Vodka, Prosecco to Wine, etc.\n",
    "\n",
    "Categorization = []\n",
    "counter = 1\n",
    "for n in alcoholic_df_['Names']:\n",
    "    categorization = input(f\"({counter}/{(len(alcoholic_df_))}) Categorize {n}: \")\n",
    "    Categorization.append(categorization)\n",
    "    counter += 1"
   ]
  },
  {
   "cell_type": "code",
   "execution_count": null,
   "metadata": {},
   "outputs": [],
   "source": [
    "# Adding in the Category column and removing Names column to use the category as the substitute for name.\n",
    "\n",
    "alcoholic_df_['Category'] = Categorization\n",
    "alcoholic_df_ = alcoholic_df_.drop(columns=['Names'])"
   ]
  },
  {
   "cell_type": "code",
   "execution_count": null,
   "metadata": {},
   "outputs": [],
   "source": [
    "# Grouping by Category and summing the counts to get totals for the now 15-ish categories of alcohol.\n",
    "# Content is stored in yet another new DataFrame (not necessary kept straightforward and simplistic).\n",
    "\n",
    "alcohol_categories = alcoholic_df_.groupby(['Category'])\n",
    "add_totals = alcohol_categories['Count'].sum()\n",
    "alcohol_categories_df = pd.DataFrame(add_totals).sort_values(by=['Count'], ascending=False).reset_index()"
   ]
  },
  {
   "cell_type": "code",
   "execution_count": null,
   "metadata": {},
   "outputs": [],
   "source": [
    "# Write this DataFrame to a CSV just so I don't have to re-categorize every time I run this stuff (Duh!)\n",
    "\n",
    "# alcohol_categories_df.to_csv(\"alcohol_categories.csv\")"
   ]
  }
 ],
 "metadata": {
  "kernelspec": {
   "display_name": "Python 3",
   "language": "python",
   "name": "python3"
  },
  "language_info": {
   "codemirror_mode": {
    "name": "ipython",
    "version": 3
   },
   "file_extension": ".py",
   "mimetype": "text/x-python",
   "name": "python",
   "nbconvert_exporter": "python",
   "pygments_lexer": "ipython3",
   "version": "3.7.4"
  },
  "latex_envs": {
   "LaTeX_envs_menu_present": true,
   "autoclose": false,
   "autocomplete": true,
   "bibliofile": "biblio.bib",
   "cite_by": "apalike",
   "current_citInitial": 1,
   "eqLabelWithNumbers": true,
   "eqNumInitial": 1,
   "hotkeys": {
    "equation": "Ctrl-E",
    "itemize": "Ctrl-I"
   },
   "labels_anchors": false,
   "latex_user_defs": false,
   "report_style_numbering": false,
   "user_envs_cfg": false
  }
 },
 "nbformat": 4,
 "nbformat_minor": 2
}
