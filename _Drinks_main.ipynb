{
 "cells": [
  {
   "cell_type": "code",
   "execution_count": 1,
   "metadata": {},
   "outputs": [],
   "source": [
    "# Dependencies and Setup\n",
    "import matplotlib.pyplot as plt\n",
    "import pandas as pd\n",
    "import numpy as np\n",
    "import requests\n",
    "import gmaps\n",
    "import os\n",
    "import json"
   ]
  },
  {
   "cell_type": "code",
   "execution_count": 2,
   "metadata": {},
   "outputs": [],
   "source": [
    "# Tempory data frame to pull in the drinks.csv file\n",
    "temp_df = pd.read_csv(\"output_data/drinks.csv\")"
   ]
  },
  {
   "cell_type": "code",
   "execution_count": 3,
   "metadata": {},
   "outputs": [
    {
     "data": {
      "text/html": [
       "<div>\n",
       "<style scoped>\n",
       "    .dataframe tbody tr th:only-of-type {\n",
       "        vertical-align: middle;\n",
       "    }\n",
       "\n",
       "    .dataframe tbody tr th {\n",
       "        vertical-align: top;\n",
       "    }\n",
       "\n",
       "    .dataframe thead th {\n",
       "        text-align: right;\n",
       "    }\n",
       "</style>\n",
       "<table border=\"1\" class=\"dataframe\">\n",
       "  <thead>\n",
       "    <tr style=\"text-align: right;\">\n",
       "      <th></th>\n",
       "      <th>Drink ID</th>\n",
       "      <th>Name</th>\n",
       "      <th>Category</th>\n",
       "      <th>Alcoholic</th>\n",
       "      <th>Glass</th>\n",
       "      <th>Ingredients</th>\n",
       "      <th>Measure</th>\n",
       "    </tr>\n",
       "  </thead>\n",
       "  <tbody>\n",
       "    <tr>\n",
       "      <td>0</td>\n",
       "      <td>17222</td>\n",
       "      <td>A1</td>\n",
       "      <td>Cocktail</td>\n",
       "      <td>True</td>\n",
       "      <td>Cocktail glass</td>\n",
       "      <td>['Gin', 'Grand Marnier', 'Lemon Juice', 'Grena...</td>\n",
       "      <td>['1 3/4 shot ', '1 Shot ', '1/4 Shot', '1/8 Sh...</td>\n",
       "    </tr>\n",
       "    <tr>\n",
       "      <td>1</td>\n",
       "      <td>13501</td>\n",
       "      <td>ABC</td>\n",
       "      <td>Shot</td>\n",
       "      <td>True</td>\n",
       "      <td>Shot glass</td>\n",
       "      <td>['Amaretto', 'Baileys irish cream', 'Cognac']</td>\n",
       "      <td>['1/3 ', '1/3 ', '1/3 ']</td>\n",
       "    </tr>\n",
       "    <tr>\n",
       "      <td>2</td>\n",
       "      <td>17225</td>\n",
       "      <td>Ace</td>\n",
       "      <td>Cocktail</td>\n",
       "      <td>True</td>\n",
       "      <td>Martini Glass</td>\n",
       "      <td>['Gin', 'Grenadine', 'Heavy cream', 'Milk', 'E...</td>\n",
       "      <td>['2 shots ', '1/2 shot ', '1/2 shot ', '1/2 sh...</td>\n",
       "    </tr>\n",
       "    <tr>\n",
       "      <td>3</td>\n",
       "      <td>17837</td>\n",
       "      <td>Adam</td>\n",
       "      <td>Ordinary Drink</td>\n",
       "      <td>True</td>\n",
       "      <td>Cocktail glass</td>\n",
       "      <td>['Dark rum', 'Lemon juice', 'Grenadine']</td>\n",
       "      <td>['2 oz ', '1 oz ', '1 tsp ']</td>\n",
       "    </tr>\n",
       "    <tr>\n",
       "      <td>4</td>\n",
       "      <td>13938</td>\n",
       "      <td>AT&amp;T</td>\n",
       "      <td>Ordinary Drink</td>\n",
       "      <td>True</td>\n",
       "      <td>Highball Glass</td>\n",
       "      <td>['Absolut Vodka', 'Gin', 'Tonic water']</td>\n",
       "      <td>['1 oz ', '1 oz ', '4 oz ']</td>\n",
       "    </tr>\n",
       "  </tbody>\n",
       "</table>\n",
       "</div>"
      ],
      "text/plain": [
       "   Drink ID  Name        Category  Alcoholic           Glass  \\\n",
       "0     17222    A1        Cocktail       True  Cocktail glass   \n",
       "1     13501   ABC            Shot       True      Shot glass   \n",
       "2     17225   Ace        Cocktail       True   Martini Glass   \n",
       "3     17837  Adam  Ordinary Drink       True  Cocktail glass   \n",
       "4     13938  AT&T  Ordinary Drink       True  Highball Glass   \n",
       "\n",
       "                                         Ingredients  \\\n",
       "0  ['Gin', 'Grand Marnier', 'Lemon Juice', 'Grena...   \n",
       "1      ['Amaretto', 'Baileys irish cream', 'Cognac']   \n",
       "2  ['Gin', 'Grenadine', 'Heavy cream', 'Milk', 'E...   \n",
       "3           ['Dark rum', 'Lemon juice', 'Grenadine']   \n",
       "4            ['Absolut Vodka', 'Gin', 'Tonic water']   \n",
       "\n",
       "                                             Measure  \n",
       "0  ['1 3/4 shot ', '1 Shot ', '1/4 Shot', '1/8 Sh...  \n",
       "1                           ['1/3 ', '1/3 ', '1/3 ']  \n",
       "2  ['2 shots ', '1/2 shot ', '1/2 shot ', '1/2 sh...  \n",
       "3                       ['2 oz ', '1 oz ', '1 tsp ']  \n",
       "4                        ['1 oz ', '1 oz ', '4 oz ']  "
      ]
     },
     "execution_count": 3,
     "metadata": {},
     "output_type": "execute_result"
    }
   ],
   "source": [
    "# Display head of data frame. Feel free to delete\n",
    "temp_df.head()"
   ]
  },
  {
   "cell_type": "code",
   "execution_count": 4,
   "metadata": {},
   "outputs": [],
   "source": [
    "# List conversion function. Let me know if there are any issues\n",
    "def convert(s):\n",
    "    lst = []\n",
    "    temp = s.split(\", \")\n",
    "    \n",
    "    for x in temp:\n",
    "        lst.append(x.translate({ord(i): None for i in \"[']\"}))\n",
    "    \n",
    "    return lst"
   ]
  },
  {
   "cell_type": "code",
   "execution_count": 5,
   "metadata": {},
   "outputs": [
    {
     "data": {
      "text/plain": [
       "Cocktail glass              92\n",
       "Highball glass              62\n",
       "Old-fashioned glass         38\n",
       "Collins Glass               29\n",
       "Shot glass                  25\n",
       "Collins glass               24\n",
       "Highball Glass              15\n",
       "Whiskey sour glass          13\n",
       "Coffee mug                   9\n",
       "Punch bowl                   7\n",
       "Hurricane glass              6\n",
       "Champagne flute              5\n",
       "Irish coffee cup             5\n",
       "Coffee Mug                   4\n",
       "Wine Glass                   4\n",
       "Pitcher                      4\n",
       "Martini Glass                4\n",
       "Old-Fashioned glass          4\n",
       "Balloon Glass                3\n",
       "Pint glass                   3\n",
       "Brandy snifter               3\n",
       "White wine glass             3\n",
       "Nick and Nora Glass          3\n",
       "Beer mug                     3\n",
       "Margarita/Coupette glass     2\n",
       "Beer pilsner                 2\n",
       "Margarita glass              2\n",
       "Champagne Flute              2\n",
       "Mason jar                    2\n",
       "Beer Glass                   2\n",
       "Shot Glass                   1\n",
       "Pousse cafe glass            1\n",
       "Cocktail Glass               1\n",
       "Coupe Glass                  1\n",
       "Cordial glass                1\n",
       "Copper Mug                   1\n",
       "Name: Glass, dtype: int64"
      ]
     },
     "execution_count": 5,
     "metadata": {},
     "output_type": "execute_result"
    }
   ],
   "source": [
    "# Necessary copy of data frame. The value count is just a test. Feel free to delete that line\n",
    "drink_df = temp_df.copy()\n",
    "drink_df['Glass'].value_counts()"
   ]
  },
  {
   "cell_type": "code",
   "execution_count": 6,
   "metadata": {},
   "outputs": [],
   "source": [
    "# Creation of main data frame. All plots should use this data (i.e. drink_df)\n",
    "for i in range(0, len(drink_df)):\n",
    "    drink_df.at[i,'Ingredients'] = convert(temp_df.loc[i,'Ingredients'])"
   ]
  },
  {
   "cell_type": "code",
   "execution_count": 7,
   "metadata": {
    "scrolled": true
   },
   "outputs": [
    {
     "name": "stdout",
     "output_type": "stream",
     "text": [
      "[('Gin', 72), ('Vodka', 54), ('Sugar', 49), ('Lemon juice', 37), ('Orange juice', 37), ('Lemon', 34), ('Grenadine', 29), ('Ice', 29), ('Light rum', 27), ('Powdered sugar', 26), ('Water', 26), ('Coffee', 24), ('Lime', 24), ('Amaretto', 21), ('Milk', 21), ('Dry Vermouth', 20), ('Kahlua', 19), ('Triple sec', 18), ('Lemon peel', 18), ('Sweet Vermouth', 17), ('Baileys irish cream', 15), ('Rum', 15), ('Tequila', 15), ('Pineapple juice', 14), ('', 14), ('151 proof rum', 13), ('Maraschino cherry', 13), ('Lime juice', 13), ('Scotch', 13), ('Bitters', 13), ('Cherry', 13), ('Brandy', 13), ('Orange', 13), ('Egg white', 12), ('Light cream', 12), ('Lime Juice', 12), ('Carbonated water', 12), ('Dark rum', 11), ('Cranberry juice', 11), ('Ginger ale', 11), ('Nutmeg', 10), ('Mint', 9), ('Bourbon', 9), ('Soda water', 9), ('Coca-Cola', 9), ('Red wine', 9), ('Salt', 8), ('Grand Marnier', 7), ('Club soda', 7), ('Blended whiskey', 7), ('Sambuca', 7), ('Champagne', 7), ('Peach schnapps', 7), ('Sugar syrup', 7), ('Blue Curacao', 7), ('Maraschino liqueur', 7), ('Egg', 7), ('Lemonade', 6), ('Orange bitters', 6), ('Angostura Bitters', 6), ('Galliano', 6), ('Vanilla extract', 6), ('Yoghurt', 6), ('Sweet and sour', 6), ('Chambord raspberry liqueur', 6), ('Lemon Juice', 5), ('Grapefruit juice', 5), ('Apple juice', 5), ('Creme de Cacao', 5), ('Cream', 5), ('Green Chartreuse', 5), ('Goldschlager', 5), ('Port', 5), ('Olive', 5), ('Benedictine', 5), ('Sugar Syrup', 5), ('Cloves', 5), ('Creme de Cassis', 5), ('Lemon-lime soda', 5), ('Wild Turkey', 4), ('Frangelico', 4), ('Maraschino Liqueur', 4), ('Midori melon liqueur', 4), ('Jägermeister', 4), ('Cherry brandy', 4), ('Lager', 4), ('Campari', 4), ('Cointreau', 4), ('Beer', 4), ('Orange peel', 4), ('Cinnamon', 4), ('Malibu rum', 4), ('Tea', 4), ('Ginger', 4), ('Whipped cream', 4), ('Jack Daniels', 4), ('Angostura bitters', 4), ('Cognac', 3), ('Heavy cream', 3), ('Tonic water', 3), ('Blackberry brandy', 3), ('Passion fruit juice', 3), ('Bacardi Limon', 3), ('Sloe gin', 3), ('Southern Comfort', 3), ('Sour mix', 3), ('Everclear', 3), ('Tabasco sauce', 3), ('Spiced rum', 3), ('Absolut Citron', 3), ('Wine', 3), ('Chocolate syrup', 3), ('Espresso', 3), ('Condensed milk', 3), ('Apricot brandy', 3), ('Orange spiral', 3), ('Pineapple', 3), ('Honey', 3), ('Irish whiskey', 3), ('Anis', 3), ('Kool-Aid', 3), ('Cardamom', 3), ('White Creme de Menthe', 3), ('Sherry', 3), ('Crown Royal', 3), ('Root beer', 3), ('Absolut Vodka', 2), ('Applejack', 2), ('Vermouth', 2), ('lemon juice', 2), ('Orange Bitters', 2), ('Irish cream', 2), ('Maraschino Cherry', 2), ('Prosecco', 2), ('Corona', 2), ('Cherry Heering', 2), ('Surge', 2), ('Tomato juice', 2), ('Cachaca', 2), ('Egg yolk', 2), ('Chocolate', 2), ('Grain alcohol', 2), ('Cider', 2), ('Fruit punch', 2), ('Sprite', 2), ('Pisco', 2), ('Ginger Beer', 2), ('Hot Damn', 2), ('Whipping cream', 2), ('Banana', 2), ('Strawberries', 2), ('Apple', 2), ('Orange Peel', 2), ('Grapefruit Juice', 2), ('lemon', 2), ('Soda Water', 2), ('Green Creme de Menthe', 2), ('White Rum', 2), ('Grape juice', 2), ('Sherbet', 2), ('Brown sugar', 2), ('Half-and-half', 2), ('Coffee liqueur', 2), ('Absolut Kurant', 2), ('Schweppes Russchian', 2), ('Lime peel', 2), ('Drambuie', 2), ('Cocoa powder', 2), ('Orgeat syrup', 2), ('Pepsi Cola', 2), ('Butterscotch schnapps', 2), ('Orange Juice', 2), ('7-Up', 2), ('Tonic Water', 2), ('Jim Beam', 2), ('Irish Whiskey', 2), ('Triple Sec', 2), ('Zima', 2), ('Egg White', 1), ('Strawberry schnapps', 1), ('Pisang Ambon', 1), ('Peach nectar', 1), ('maraschino liqueur', 1), ('Creme de Mure', 1), ('Rye Whiskey', 1), ('Pineapple Juice', 1), ('Hot Chocolate', 1), ('Wormwood', 1), ('Banana liqueur', 1), ('Mountain Dew', 1), ('Worcestershire sauce', 1), ('Falernum', 1), ('Añejo rum', 1), ('blackstrap rum', 1), ('Vanilla', 1), ('Caramel coloring', 1), ('White rum', 1), ('Chocolate liqueur', 1), ('Peppermint extract', 1), ('Food coloring', 1), ('gin', 1), ('Peach Bitters', 1), ('Blackcurrant cordial', 1), ('Olive Brine', 1), ('demerara Sugar', 1), ('Pineapple Syrup', 1), ('St. Germain', 1), ('Pepper', 1), ('Lavender', 1), ('Dark Rum', 1), ('Whiskey', 1), ('Dubonnet Rouge', 1), ('Vanilla syrup', 1), ('Fruit', 1), ('Raspberry Liqueur', 1), ('pineapple juice', 1), ('Lillet', 1), ('Fruit juice', 1), ('Firewater', 1), ('Absolut Peppar', 1), ('Dr. Pepper', 1), ('Sarsaparilla', 1), ('Peach Vodka', 1), ('Sirup of roses', 1), ('Whisky', 1), ('Blackberries', 1), ('Carbonated soft drink', 1), ('Corn syrup', 1), ('Cherry Juice', 1), ('Red Chili Flakes', 1), ('Coconut syrup', 1), ('Iced tea', 1), ('Peach brandy', 1), ('Guinness stout', 1), ('Aperol', 1), ('Jello', 1), ('Mint syrup', 1), ('Yellow Chartreuse', 1), ('Apple brandy', 1), ('Kiwi liqueur', 1), ('Bitter lemon', 1), ('Cranberry vodka', 1), ('Apfelkorn', 1), ('Kiwi', 1), ('Papaya', 1), ('Asafoetida', 1), ('Cayenne pepper', 1), ('Tia maria', 1), ('Mango', 1), ('Pina colada mix', 1), ('Daiquiri mix', 1), ('Absinthe', 1), ('Black pepper', 1), ('Cucumber', 1), ('Rye whiskey', 1), ('Vanilla ice-cream', 1), ('Oreo cookie', 1), ('Bailey', 1), ('Jagermeister', 1), ('Grape Soda', 1), ('Apricot Brandy', 1), ('Orange Curacao', 1), ('Egg Yolk', 1), ('Blended Scotch', 1), ('Honey syrup', 1), ('Ginger Syrup', 1), ('Islay single malt Scotch', 1), ('Coconut milk', 1), ('Cherry liqueur', 1), ('Pink lemonade', 1), ('Coffee brandy', 1), ('Lime vodka', 1), ('Black Sambuca', 1), ('Raspberry syrup', 1), ('Rosemary', 1), ('Raspberry vodka', 1), ('Ricard', 1), ('Peychaud bitters', 1), ('Advocaat', 1), ('Allspice', 1), ('Godiva liqueur', 1), ('Anisette', 1), ('Fresca', 1), ('Creme de Banane', 1), ('Cherries', 1), ('Celery salt', 1), ('Coriander', 1), ('Elderflower cordial', 1), ('Rosso Vermouth', 1), ('7-up', 1), ('Cranberry Juice', 1), ('Yukon Jack', 1), ('Agave syrup', 1), ('Lillet Blanc', 1), ('Tomato Juice', 1), ('Maple syrup', 1), ('Limeade', 1), ('Cream of coconut', 1), ('Peachtree schnapps', 1), ('Gold rum', 1), ('Pernod', 1), ('Ouzo', 1), ('Johnnie Walker', 1), ('Vanilla vodka', 1)]\n"
     ]
    }
   ],
   "source": [
    "# Creation of sorted list of tuples. Useful for most used ingredient\n",
    "ing_count = {}\n",
    "for i in range(0, len(drink_df)):\n",
    "    for ing in drink_df.loc[i,'Ingredients']:\n",
    "        if ing in ing_count:\n",
    "            ing_count[ing] = ing_count[ing] + 1\n",
    "        else:\n",
    "            ing_count[ing] = 1\n",
    "            \n",
    "#print(ing_count)\n",
    "a=sorted(ing_count.items(), key=lambda x: x[1], reverse = True)\n",
    "print(a)\n",
    "#print(drink2_df['Ingredients'].to_string())"
   ]
  },
  {
   "cell_type": "code",
   "execution_count": 8,
   "metadata": {},
   "outputs": [
    {
     "data": {
      "text/html": [
       "<div>\n",
       "<style scoped>\n",
       "    .dataframe tbody tr th:only-of-type {\n",
       "        vertical-align: middle;\n",
       "    }\n",
       "\n",
       "    .dataframe tbody tr th {\n",
       "        vertical-align: top;\n",
       "    }\n",
       "\n",
       "    .dataframe thead th {\n",
       "        text-align: right;\n",
       "    }\n",
       "</style>\n",
       "<table border=\"1\" class=\"dataframe\">\n",
       "  <thead>\n",
       "    <tr style=\"text-align: right;\">\n",
       "      <th></th>\n",
       "      <th>Drink ID</th>\n",
       "      <th>Name</th>\n",
       "      <th>Category</th>\n",
       "      <th>Alcoholic</th>\n",
       "      <th>Glass</th>\n",
       "      <th>Ingredients</th>\n",
       "      <th>Measure</th>\n",
       "      <th>Ingredients Count</th>\n",
       "    </tr>\n",
       "  </thead>\n",
       "  <tbody>\n",
       "    <tr>\n",
       "      <td>0</td>\n",
       "      <td>17222</td>\n",
       "      <td>A1</td>\n",
       "      <td>Cocktail</td>\n",
       "      <td>True</td>\n",
       "      <td>Cocktail glass</td>\n",
       "      <td>[Gin, Grand Marnier, Lemon Juice, Grenadine]</td>\n",
       "      <td>['1 3/4 shot ', '1 Shot ', '1/4 Shot', '1/8 Sh...</td>\n",
       "      <td>4</td>\n",
       "    </tr>\n",
       "    <tr>\n",
       "      <td>1</td>\n",
       "      <td>13501</td>\n",
       "      <td>ABC</td>\n",
       "      <td>Shot</td>\n",
       "      <td>True</td>\n",
       "      <td>Shot glass</td>\n",
       "      <td>[Amaretto, Baileys irish cream, Cognac]</td>\n",
       "      <td>['1/3 ', '1/3 ', '1/3 ']</td>\n",
       "      <td>3</td>\n",
       "    </tr>\n",
       "    <tr>\n",
       "      <td>2</td>\n",
       "      <td>17225</td>\n",
       "      <td>Ace</td>\n",
       "      <td>Cocktail</td>\n",
       "      <td>True</td>\n",
       "      <td>Martini Glass</td>\n",
       "      <td>[Gin, Grenadine, Heavy cream, Milk, Egg White]</td>\n",
       "      <td>['2 shots ', '1/2 shot ', '1/2 shot ', '1/2 sh...</td>\n",
       "      <td>5</td>\n",
       "    </tr>\n",
       "    <tr>\n",
       "      <td>3</td>\n",
       "      <td>17837</td>\n",
       "      <td>Adam</td>\n",
       "      <td>Ordinary Drink</td>\n",
       "      <td>True</td>\n",
       "      <td>Cocktail glass</td>\n",
       "      <td>[Dark rum, Lemon juice, Grenadine]</td>\n",
       "      <td>['2 oz ', '1 oz ', '1 tsp ']</td>\n",
       "      <td>3</td>\n",
       "    </tr>\n",
       "    <tr>\n",
       "      <td>4</td>\n",
       "      <td>13938</td>\n",
       "      <td>AT&amp;T</td>\n",
       "      <td>Ordinary Drink</td>\n",
       "      <td>True</td>\n",
       "      <td>Highball Glass</td>\n",
       "      <td>[Absolut Vodka, Gin, Tonic water]</td>\n",
       "      <td>['1 oz ', '1 oz ', '4 oz ']</td>\n",
       "      <td>3</td>\n",
       "    </tr>\n",
       "  </tbody>\n",
       "</table>\n",
       "</div>"
      ],
      "text/plain": [
       "   Drink ID  Name        Category  Alcoholic           Glass  \\\n",
       "0     17222    A1        Cocktail       True  Cocktail glass   \n",
       "1     13501   ABC            Shot       True      Shot glass   \n",
       "2     17225   Ace        Cocktail       True   Martini Glass   \n",
       "3     17837  Adam  Ordinary Drink       True  Cocktail glass   \n",
       "4     13938  AT&T  Ordinary Drink       True  Highball Glass   \n",
       "\n",
       "                                      Ingredients  \\\n",
       "0    [Gin, Grand Marnier, Lemon Juice, Grenadine]   \n",
       "1         [Amaretto, Baileys irish cream, Cognac]   \n",
       "2  [Gin, Grenadine, Heavy cream, Milk, Egg White]   \n",
       "3              [Dark rum, Lemon juice, Grenadine]   \n",
       "4               [Absolut Vodka, Gin, Tonic water]   \n",
       "\n",
       "                                             Measure  Ingredients Count  \n",
       "0  ['1 3/4 shot ', '1 Shot ', '1/4 Shot', '1/8 Sh...                  4  \n",
       "1                           ['1/3 ', '1/3 ', '1/3 ']                  3  \n",
       "2  ['2 shots ', '1/2 shot ', '1/2 shot ', '1/2 sh...                  5  \n",
       "3                       ['2 oz ', '1 oz ', '1 tsp ']                  3  \n",
       "4                        ['1 oz ', '1 oz ', '4 oz ']                  3  "
      ]
     },
     "execution_count": 8,
     "metadata": {},
     "output_type": "execute_result"
    }
   ],
   "source": [
    "# Creation of new series. Feel free to delete if not needed.\n",
    "\n",
    "drink_df['Ingredients Count'] = 0\n",
    "for i in range(0, len(drink_df)):\n",
    "    drink_df.loc[i,'Ingredients Count'] = len(drink_df.loc[i,'Ingredients'])\n",
    "drink_df.head()"
   ]
  },
  {
   "cell_type": "code",
   "execution_count": 9,
   "metadata": {},
   "outputs": [],
   "source": [
    "# Phase One Below -- Note these phases can be merged."
   ]
  },
  {
   "cell_type": "code",
   "execution_count": null,
   "metadata": {},
   "outputs": [],
   "source": [
    "liquor_count = pd.DataFrame.from_dict(ing_count, orient='index')\n",
    "liquor_count.reset_index(level=0, inplace=True)\n",
    "liquor_count.columns = ['Name','Count']\n",
    "liquor_count['Name'] = liquor_count['Name'].str.lower()\n",
    "liquor_count = liquor_count.sort_values(by=['Count'], ascending=False)\n",
    "liquor_count.to_csv('ingredients_list.csv')"
   ]
  },
  {
   "cell_type": "code",
   "execution_count": null,
   "metadata": {},
   "outputs": [],
   "source": [
    "# Phase Two -- Note these phases can be merged."
   ]
  },
  {
   "cell_type": "code",
   "execution_count": null,
   "metadata": {},
   "outputs": [],
   "source": [
    "#df = pd.read_csv(\"ingredients_list.csv\")\n",
    "#df = df.drop('Unnamed: 0', axis=1)\n",
    "#df.head(1)"
   ]
  },
  {
   "cell_type": "code",
   "execution_count": null,
   "metadata": {
    "scrolled": true
   },
   "outputs": [],
   "source": [
    "#drink_names = df.Name"
   ]
  },
  {
   "cell_type": "code",
   "execution_count": null,
   "metadata": {},
   "outputs": [],
   "source": [
    "# alcoholic = []\n",
    "# non_alcoholic = []"
   ]
  },
  {
   "cell_type": "code",
   "execution_count": null,
   "metadata": {},
   "outputs": [],
   "source": [
    "# Do not un-comment and run this please\n",
    "# for d in drink_names:\n",
    "#         answer = input(f\"Is {d} alcoholic?\\r\")\n",
    "#         if answer == \"\" or answer == \"y\":\n",
    "#             alcoholic.append(d)\n",
    "#         else:\n",
    "#             non_alcoholic.append(d)"
   ]
  },
  {
   "cell_type": "code",
   "execution_count": null,
   "metadata": {},
   "outputs": [],
   "source": [
    "#alcoholic_df = pd.Series(alcoholic).dropna()\n",
    "#non_alcoholic_df = pd.Series(non_alcoholic).dropna()"
   ]
  },
  {
   "cell_type": "code",
   "execution_count": null,
   "metadata": {},
   "outputs": [],
   "source": [
    "#alcoholic_df.to_csv(\"alcohol_items.csv\", header=True)\n",
    "#non_alcoholic_df.to_csv(\"non_alcohol_items.csv\", header=True)"
   ]
  },
  {
   "cell_type": "code",
   "execution_count": null,
   "metadata": {},
   "outputs": [],
   "source": [
    "# Phase Three -- Note these phases can be merged."
   ]
  },
  {
   "cell_type": "code",
   "execution_count": null,
   "metadata": {},
   "outputs": [],
   "source": [
    "alcoholic_df = pd.read_csv('alcohol_items.csv')\n",
    "non_alcohol_df = pd.read_csv('non_alcohol_items.csv')\n",
    "alcoholic_df = alcoholic_df.drop('Unnamed: 0', axis=1)\n",
    "non_alcohol_df = non_alcohol_df.drop('Unnamed: 0', axis=1)"
   ]
  },
  {
   "cell_type": "code",
   "execution_count": null,
   "metadata": {},
   "outputs": [],
   "source": [
    "alcohol_groups = [\n",
    "    'gin','liqueur','vodka','rum',\n",
    "    'schnapps','scotch','wine','creme',\n",
    "    'vermouth','sambuca','whiskey','tequila',\n",
    "    'absolut','brandy'\n",
    "]"
   ]
  },
  {
   "cell_type": "code",
   "execution_count": null,
   "metadata": {},
   "outputs": [],
   "source": [
    "#converter\n",
    "for g in alcohol_groups:\n",
    "    converter = alcoholic_df.loc[alcoholic_df['Names'].str.contains(g), 'Names'] = g"
   ]
  },
  {
   "cell_type": "code",
   "execution_count": null,
   "metadata": {},
   "outputs": [],
   "source": [
    "alcohol_names = alcoholic_df.groupby(['Names'])\n",
    "add_values = alcohol_names['Count'].sum()\n",
    "alcoholic_df_ = pd.DataFrame(add_values)"
   ]
  },
  {
   "cell_type": "code",
   "execution_count": null,
   "metadata": {},
   "outputs": [],
   "source": [
    "alcoholic_df_.sort_values(by=['Count'], ascending=False).head(30)"
   ]
  },
  {
   "cell_type": "code",
   "execution_count": null,
   "metadata": {},
   "outputs": [],
   "source": []
  }
 ],
 "metadata": {
  "kernelspec": {
   "display_name": "Python 3",
   "language": "python",
   "name": "python3"
  },
  "language_info": {
   "codemirror_mode": {
    "name": "ipython",
    "version": 3
   },
   "file_extension": ".py",
   "mimetype": "text/x-python",
   "name": "python",
   "nbconvert_exporter": "python",
   "pygments_lexer": "ipython3",
   "version": "3.7.4"
  }
 },
 "nbformat": 4,
 "nbformat_minor": 4
}
